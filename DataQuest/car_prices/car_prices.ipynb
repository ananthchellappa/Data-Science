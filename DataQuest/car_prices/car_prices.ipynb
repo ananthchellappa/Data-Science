{
 "cells": [
  {
   "cell_type": "markdown",
   "metadata": {
    "collapsed": true
   },
   "source": [
    "DS location : https://archive.ics.uci.edu/ml/machine-learning-databases/autos/imports-85.data\n",
    "\n",
    "Documentation : https://archive.ics.uci.edu/ml/datasets/automobile"
   ]
  },
  {
   "cell_type": "code",
   "execution_count": 34,
   "metadata": {},
   "outputs": [
    {
     "name": "stdout",
     "output_type": "stream",
     "text": [
      "<class 'pandas.core.frame.DataFrame'>\n",
      "RangeIndex: 204 entries, 0 to 203\n",
      "Data columns (total 26 columns):\n",
      "3              204 non-null int64\n",
      "?              204 non-null object\n",
      "alfa-romero    204 non-null object\n",
      "gas            204 non-null object\n",
      "std            204 non-null object\n",
      "two            204 non-null object\n",
      "convertible    204 non-null object\n",
      "rwd            204 non-null object\n",
      "front          204 non-null object\n",
      "88.60          204 non-null float64\n",
      "168.80         204 non-null float64\n",
      "64.10          204 non-null float64\n",
      "48.80          204 non-null float64\n",
      "2548           204 non-null int64\n",
      "dohc           204 non-null object\n",
      "four           204 non-null object\n",
      "130            204 non-null int64\n",
      "mpfi           204 non-null object\n",
      "3.47           204 non-null object\n",
      "2.68           204 non-null object\n",
      "9.00           204 non-null float64\n",
      "111            204 non-null object\n",
      "5000           204 non-null object\n",
      "21             204 non-null int64\n",
      "27             204 non-null int64\n",
      "13495          204 non-null object\n",
      "dtypes: float64(5), int64(5), object(16)\n",
      "memory usage: 41.5+ KB\n"
     ]
    }
   ],
   "source": [
    "import pandas as pd\n",
    "cars = pd.read_csv( \"imports-85.data\")\n",
    "cars.info()"
   ]
  },
  {
   "cell_type": "code",
   "execution_count": 35,
   "metadata": {},
   "outputs": [
    {
     "data": {
      "text/html": [
       "<div>\n",
       "<style scoped>\n",
       "    .dataframe tbody tr th:only-of-type {\n",
       "        vertical-align: middle;\n",
       "    }\n",
       "\n",
       "    .dataframe tbody tr th {\n",
       "        vertical-align: top;\n",
       "    }\n",
       "\n",
       "    .dataframe thead th {\n",
       "        text-align: right;\n",
       "    }\n",
       "</style>\n",
       "<table border=\"1\" class=\"dataframe\">\n",
       "  <thead>\n",
       "    <tr style=\"text-align: right;\">\n",
       "      <th></th>\n",
       "      <th>3</th>\n",
       "      <th>?</th>\n",
       "      <th>alfa-romero</th>\n",
       "      <th>gas</th>\n",
       "      <th>std</th>\n",
       "      <th>two</th>\n",
       "      <th>convertible</th>\n",
       "      <th>rwd</th>\n",
       "      <th>front</th>\n",
       "      <th>88.60</th>\n",
       "      <th>...</th>\n",
       "      <th>130</th>\n",
       "      <th>mpfi</th>\n",
       "      <th>3.47</th>\n",
       "      <th>2.68</th>\n",
       "      <th>9.00</th>\n",
       "      <th>111</th>\n",
       "      <th>5000</th>\n",
       "      <th>21</th>\n",
       "      <th>27</th>\n",
       "      <th>13495</th>\n",
       "    </tr>\n",
       "  </thead>\n",
       "  <tbody>\n",
       "    <tr>\n",
       "      <th>0</th>\n",
       "      <td>3</td>\n",
       "      <td>?</td>\n",
       "      <td>alfa-romero</td>\n",
       "      <td>gas</td>\n",
       "      <td>std</td>\n",
       "      <td>two</td>\n",
       "      <td>convertible</td>\n",
       "      <td>rwd</td>\n",
       "      <td>front</td>\n",
       "      <td>88.6</td>\n",
       "      <td>...</td>\n",
       "      <td>130</td>\n",
       "      <td>mpfi</td>\n",
       "      <td>3.47</td>\n",
       "      <td>2.68</td>\n",
       "      <td>9.0</td>\n",
       "      <td>111</td>\n",
       "      <td>5000</td>\n",
       "      <td>21</td>\n",
       "      <td>27</td>\n",
       "      <td>16500</td>\n",
       "    </tr>\n",
       "    <tr>\n",
       "      <th>1</th>\n",
       "      <td>1</td>\n",
       "      <td>?</td>\n",
       "      <td>alfa-romero</td>\n",
       "      <td>gas</td>\n",
       "      <td>std</td>\n",
       "      <td>two</td>\n",
       "      <td>hatchback</td>\n",
       "      <td>rwd</td>\n",
       "      <td>front</td>\n",
       "      <td>94.5</td>\n",
       "      <td>...</td>\n",
       "      <td>152</td>\n",
       "      <td>mpfi</td>\n",
       "      <td>2.68</td>\n",
       "      <td>3.47</td>\n",
       "      <td>9.0</td>\n",
       "      <td>154</td>\n",
       "      <td>5000</td>\n",
       "      <td>19</td>\n",
       "      <td>26</td>\n",
       "      <td>16500</td>\n",
       "    </tr>\n",
       "    <tr>\n",
       "      <th>2</th>\n",
       "      <td>2</td>\n",
       "      <td>164</td>\n",
       "      <td>audi</td>\n",
       "      <td>gas</td>\n",
       "      <td>std</td>\n",
       "      <td>four</td>\n",
       "      <td>sedan</td>\n",
       "      <td>fwd</td>\n",
       "      <td>front</td>\n",
       "      <td>99.8</td>\n",
       "      <td>...</td>\n",
       "      <td>109</td>\n",
       "      <td>mpfi</td>\n",
       "      <td>3.19</td>\n",
       "      <td>3.40</td>\n",
       "      <td>10.0</td>\n",
       "      <td>102</td>\n",
       "      <td>5500</td>\n",
       "      <td>24</td>\n",
       "      <td>30</td>\n",
       "      <td>13950</td>\n",
       "    </tr>\n",
       "    <tr>\n",
       "      <th>3</th>\n",
       "      <td>2</td>\n",
       "      <td>164</td>\n",
       "      <td>audi</td>\n",
       "      <td>gas</td>\n",
       "      <td>std</td>\n",
       "      <td>four</td>\n",
       "      <td>sedan</td>\n",
       "      <td>4wd</td>\n",
       "      <td>front</td>\n",
       "      <td>99.4</td>\n",
       "      <td>...</td>\n",
       "      <td>136</td>\n",
       "      <td>mpfi</td>\n",
       "      <td>3.19</td>\n",
       "      <td>3.40</td>\n",
       "      <td>8.0</td>\n",
       "      <td>115</td>\n",
       "      <td>5500</td>\n",
       "      <td>18</td>\n",
       "      <td>22</td>\n",
       "      <td>17450</td>\n",
       "    </tr>\n",
       "    <tr>\n",
       "      <th>4</th>\n",
       "      <td>2</td>\n",
       "      <td>?</td>\n",
       "      <td>audi</td>\n",
       "      <td>gas</td>\n",
       "      <td>std</td>\n",
       "      <td>two</td>\n",
       "      <td>sedan</td>\n",
       "      <td>fwd</td>\n",
       "      <td>front</td>\n",
       "      <td>99.8</td>\n",
       "      <td>...</td>\n",
       "      <td>136</td>\n",
       "      <td>mpfi</td>\n",
       "      <td>3.19</td>\n",
       "      <td>3.40</td>\n",
       "      <td>8.5</td>\n",
       "      <td>110</td>\n",
       "      <td>5500</td>\n",
       "      <td>19</td>\n",
       "      <td>25</td>\n",
       "      <td>15250</td>\n",
       "    </tr>\n",
       "  </tbody>\n",
       "</table>\n",
       "<p>5 rows × 26 columns</p>\n",
       "</div>"
      ],
      "text/plain": [
       "   3    ?  alfa-romero  gas  std   two  convertible  rwd  front  88.60  ...    \\\n",
       "0  3    ?  alfa-romero  gas  std   two  convertible  rwd  front   88.6  ...     \n",
       "1  1    ?  alfa-romero  gas  std   two    hatchback  rwd  front   94.5  ...     \n",
       "2  2  164         audi  gas  std  four        sedan  fwd  front   99.8  ...     \n",
       "3  2  164         audi  gas  std  four        sedan  4wd  front   99.4  ...     \n",
       "4  2    ?         audi  gas  std   two        sedan  fwd  front   99.8  ...     \n",
       "\n",
       "   130  mpfi  3.47  2.68  9.00  111  5000  21  27  13495  \n",
       "0  130  mpfi  3.47  2.68   9.0  111  5000  21  27  16500  \n",
       "1  152  mpfi  2.68  3.47   9.0  154  5000  19  26  16500  \n",
       "2  109  mpfi  3.19  3.40  10.0  102  5500  24  30  13950  \n",
       "3  136  mpfi  3.19  3.40   8.0  115  5500  18  22  17450  \n",
       "4  136  mpfi  3.19  3.40   8.5  110  5500  19  25  15250  \n",
       "\n",
       "[5 rows x 26 columns]"
      ]
     },
     "execution_count": 35,
     "metadata": {},
     "output_type": "execute_result"
    }
   ],
   "source": [
    "cars.head()"
   ]
  },
  {
   "cell_type": "markdown",
   "metadata": {},
   "source": [
    "What happened? This is a dataset from 1985 when there was no python and pandas :)\n",
    "given that the source link has the header info, what should one do? How will you convert\n",
    "\n",
    "1. symboling: -3, -2, -1, 0, 1, 2, 3.\n",
    "2. normalized-losses: continuous from 65 to 256.\n",
    "3. make:\n",
    "alfa-romero, audi, bmw, chevrolet, dodge, honda,\n",
    "isuzu, jaguar, mazda, mercedes-benz, mercury,\n",
    "mitsubishi, nissan, peugot, plymouth, porsche,\n",
    "renault, saab, subaru, toyota, volkswagen, volvo\n",
    "\n",
    "\n",
    "4. fuel-type: diesel, gas.\n",
    "5. aspiration: std, turbo.\n",
    "\n",
    ".....\n",
    "\n",
    "24. city-mpg: continuous from 13 to 49.\n",
    "25. highway-mpg: continuous from 16 to 54.\n",
    "26. price: continuous from 5118 to 45400.\n",
    "\n",
    "to \n",
    "`[\"symboling\",\"normalized-losses\",...\"price\"]`?\n",
    "\n",
    "Ans : Paste what you get from that page into a text editor and then pipe through :\n",
    "\n",
    "`perl -n -e 'print if s/^\\d+\\.\\s*(\\S+):.*/$1/;' | perl -p -000 -e 's/(\\S+)\\s*/\"$1\",/gs;'`"
   ]
  },
  {
   "cell_type": "code",
   "execution_count": 36,
   "metadata": {
    "collapsed": true
   },
   "outputs": [],
   "source": [
    "headers=[\"symboling\",\"normalized-losses\",\"make\",\"fuel-type\",\"aspiration\",\"num-of-doors\",\"body-style\",\"drive-wheels\",\"engine-location\",\"wheel-base\",\"length\",\"width\",\"height\",\"curb-weight\",\"engine-type\",\"num-of-cylinders\",\"engine-size\",\"fuel-system\",\"bore\",\"stroke\",\"compression-ratio\",\"horsepower\",\"peak-rpm\",\"city-mpg\",\"highway-mpg\",\"price\"]"
   ]
  },
  {
   "cell_type": "code",
   "execution_count": 37,
   "metadata": {},
   "outputs": [],
   "source": [
    "cars = pd.read_csv( \"imports-85.data\", names=headers)"
   ]
  },
  {
   "cell_type": "code",
   "execution_count": 38,
   "metadata": {
    "scrolled": true
   },
   "outputs": [
    {
     "data": {
      "text/html": [
       "<div>\n",
       "<style scoped>\n",
       "    .dataframe tbody tr th:only-of-type {\n",
       "        vertical-align: middle;\n",
       "    }\n",
       "\n",
       "    .dataframe tbody tr th {\n",
       "        vertical-align: top;\n",
       "    }\n",
       "\n",
       "    .dataframe thead th {\n",
       "        text-align: right;\n",
       "    }\n",
       "</style>\n",
       "<table border=\"1\" class=\"dataframe\">\n",
       "  <thead>\n",
       "    <tr style=\"text-align: right;\">\n",
       "      <th></th>\n",
       "      <th>symboling</th>\n",
       "      <th>normalized-losses</th>\n",
       "      <th>make</th>\n",
       "      <th>fuel-type</th>\n",
       "      <th>aspiration</th>\n",
       "      <th>num-of-doors</th>\n",
       "      <th>body-style</th>\n",
       "      <th>drive-wheels</th>\n",
       "      <th>engine-location</th>\n",
       "      <th>wheel-base</th>\n",
       "      <th>...</th>\n",
       "      <th>engine-size</th>\n",
       "      <th>fuel-system</th>\n",
       "      <th>bore</th>\n",
       "      <th>stroke</th>\n",
       "      <th>compression-ratio</th>\n",
       "      <th>horsepower</th>\n",
       "      <th>peak-rpm</th>\n",
       "      <th>city-mpg</th>\n",
       "      <th>highway-mpg</th>\n",
       "      <th>price</th>\n",
       "    </tr>\n",
       "  </thead>\n",
       "  <tbody>\n",
       "    <tr>\n",
       "      <th>0</th>\n",
       "      <td>3</td>\n",
       "      <td>?</td>\n",
       "      <td>alfa-romero</td>\n",
       "      <td>gas</td>\n",
       "      <td>std</td>\n",
       "      <td>two</td>\n",
       "      <td>convertible</td>\n",
       "      <td>rwd</td>\n",
       "      <td>front</td>\n",
       "      <td>88.6</td>\n",
       "      <td>...</td>\n",
       "      <td>130</td>\n",
       "      <td>mpfi</td>\n",
       "      <td>3.47</td>\n",
       "      <td>2.68</td>\n",
       "      <td>9.0</td>\n",
       "      <td>111</td>\n",
       "      <td>5000</td>\n",
       "      <td>21</td>\n",
       "      <td>27</td>\n",
       "      <td>13495</td>\n",
       "    </tr>\n",
       "    <tr>\n",
       "      <th>1</th>\n",
       "      <td>3</td>\n",
       "      <td>?</td>\n",
       "      <td>alfa-romero</td>\n",
       "      <td>gas</td>\n",
       "      <td>std</td>\n",
       "      <td>two</td>\n",
       "      <td>convertible</td>\n",
       "      <td>rwd</td>\n",
       "      <td>front</td>\n",
       "      <td>88.6</td>\n",
       "      <td>...</td>\n",
       "      <td>130</td>\n",
       "      <td>mpfi</td>\n",
       "      <td>3.47</td>\n",
       "      <td>2.68</td>\n",
       "      <td>9.0</td>\n",
       "      <td>111</td>\n",
       "      <td>5000</td>\n",
       "      <td>21</td>\n",
       "      <td>27</td>\n",
       "      <td>16500</td>\n",
       "    </tr>\n",
       "    <tr>\n",
       "      <th>2</th>\n",
       "      <td>1</td>\n",
       "      <td>?</td>\n",
       "      <td>alfa-romero</td>\n",
       "      <td>gas</td>\n",
       "      <td>std</td>\n",
       "      <td>two</td>\n",
       "      <td>hatchback</td>\n",
       "      <td>rwd</td>\n",
       "      <td>front</td>\n",
       "      <td>94.5</td>\n",
       "      <td>...</td>\n",
       "      <td>152</td>\n",
       "      <td>mpfi</td>\n",
       "      <td>2.68</td>\n",
       "      <td>3.47</td>\n",
       "      <td>9.0</td>\n",
       "      <td>154</td>\n",
       "      <td>5000</td>\n",
       "      <td>19</td>\n",
       "      <td>26</td>\n",
       "      <td>16500</td>\n",
       "    </tr>\n",
       "    <tr>\n",
       "      <th>3</th>\n",
       "      <td>2</td>\n",
       "      <td>164</td>\n",
       "      <td>audi</td>\n",
       "      <td>gas</td>\n",
       "      <td>std</td>\n",
       "      <td>four</td>\n",
       "      <td>sedan</td>\n",
       "      <td>fwd</td>\n",
       "      <td>front</td>\n",
       "      <td>99.8</td>\n",
       "      <td>...</td>\n",
       "      <td>109</td>\n",
       "      <td>mpfi</td>\n",
       "      <td>3.19</td>\n",
       "      <td>3.40</td>\n",
       "      <td>10.0</td>\n",
       "      <td>102</td>\n",
       "      <td>5500</td>\n",
       "      <td>24</td>\n",
       "      <td>30</td>\n",
       "      <td>13950</td>\n",
       "    </tr>\n",
       "    <tr>\n",
       "      <th>4</th>\n",
       "      <td>2</td>\n",
       "      <td>164</td>\n",
       "      <td>audi</td>\n",
       "      <td>gas</td>\n",
       "      <td>std</td>\n",
       "      <td>four</td>\n",
       "      <td>sedan</td>\n",
       "      <td>4wd</td>\n",
       "      <td>front</td>\n",
       "      <td>99.4</td>\n",
       "      <td>...</td>\n",
       "      <td>136</td>\n",
       "      <td>mpfi</td>\n",
       "      <td>3.19</td>\n",
       "      <td>3.40</td>\n",
       "      <td>8.0</td>\n",
       "      <td>115</td>\n",
       "      <td>5500</td>\n",
       "      <td>18</td>\n",
       "      <td>22</td>\n",
       "      <td>17450</td>\n",
       "    </tr>\n",
       "  </tbody>\n",
       "</table>\n",
       "<p>5 rows × 26 columns</p>\n",
       "</div>"
      ],
      "text/plain": [
       "   symboling normalized-losses         make fuel-type aspiration num-of-doors  \\\n",
       "0          3                 ?  alfa-romero       gas        std          two   \n",
       "1          3                 ?  alfa-romero       gas        std          two   \n",
       "2          1                 ?  alfa-romero       gas        std          two   \n",
       "3          2               164         audi       gas        std         four   \n",
       "4          2               164         audi       gas        std         four   \n",
       "\n",
       "    body-style drive-wheels engine-location  wheel-base  ...    engine-size  \\\n",
       "0  convertible          rwd           front        88.6  ...            130   \n",
       "1  convertible          rwd           front        88.6  ...            130   \n",
       "2    hatchback          rwd           front        94.5  ...            152   \n",
       "3        sedan          fwd           front        99.8  ...            109   \n",
       "4        sedan          4wd           front        99.4  ...            136   \n",
       "\n",
       "   fuel-system  bore  stroke compression-ratio horsepower  peak-rpm city-mpg  \\\n",
       "0         mpfi  3.47    2.68               9.0        111      5000       21   \n",
       "1         mpfi  3.47    2.68               9.0        111      5000       21   \n",
       "2         mpfi  2.68    3.47               9.0        154      5000       19   \n",
       "3         mpfi  3.19    3.40              10.0        102      5500       24   \n",
       "4         mpfi  3.19    3.40               8.0        115      5500       18   \n",
       "\n",
       "  highway-mpg  price  \n",
       "0          27  13495  \n",
       "1          27  16500  \n",
       "2          26  16500  \n",
       "3          30  13950  \n",
       "4          22  17450  \n",
       "\n",
       "[5 rows x 26 columns]"
      ]
     },
     "execution_count": 38,
     "metadata": {},
     "output_type": "execute_result"
    }
   ],
   "source": [
    "cars.head()"
   ]
  },
  {
   "cell_type": "code",
   "execution_count": 39,
   "metadata": {},
   "outputs": [
    {
     "name": "stdout",
     "output_type": "stream",
     "text": [
      "<class 'pandas.core.frame.DataFrame'>\n",
      "RangeIndex: 205 entries, 0 to 204\n",
      "Data columns (total 26 columns):\n",
      "symboling            205 non-null int64\n",
      "normalized-losses    205 non-null object\n",
      "make                 205 non-null object\n",
      "fuel-type            205 non-null object\n",
      "aspiration           205 non-null object\n",
      "num-of-doors         205 non-null object\n",
      "body-style           205 non-null object\n",
      "drive-wheels         205 non-null object\n",
      "engine-location      205 non-null object\n",
      "wheel-base           205 non-null float64\n",
      "length               205 non-null float64\n",
      "width                205 non-null float64\n",
      "height               205 non-null float64\n",
      "curb-weight          205 non-null int64\n",
      "engine-type          205 non-null object\n",
      "num-of-cylinders     205 non-null object\n",
      "engine-size          205 non-null int64\n",
      "fuel-system          205 non-null object\n",
      "bore                 205 non-null object\n",
      "stroke               205 non-null object\n",
      "compression-ratio    205 non-null float64\n",
      "horsepower           205 non-null object\n",
      "peak-rpm             205 non-null object\n",
      "city-mpg             205 non-null int64\n",
      "highway-mpg          205 non-null int64\n",
      "price                205 non-null object\n",
      "dtypes: float64(5), int64(5), object(16)\n",
      "memory usage: 41.7+ KB\n"
     ]
    }
   ],
   "source": [
    "cars.info()"
   ]
  },
  {
   "cell_type": "markdown",
   "metadata": {},
   "source": [
    "Okay, before we get cut with converting one --> 1, two --> 2, etc for the number of doors and cylinders, let's make sure we don't get caught by things like fourteen and twenty-two :)"
   ]
  },
  {
   "cell_type": "code",
   "execution_count": 40,
   "metadata": {},
   "outputs": [
    {
     "data": {
      "text/plain": [
       "array(['four', 'six', 'five', 'three', 'twelve', 'two', 'eight'],\n",
       "      dtype=object)"
      ]
     },
     "execution_count": 40,
     "metadata": {},
     "output_type": "execute_result"
    }
   ],
   "source": [
    "cars['num-of-cylinders'].unique()"
   ]
  },
  {
   "cell_type": "code",
   "execution_count": 41,
   "metadata": {},
   "outputs": [
    {
     "data": {
      "text/plain": [
       "array(['two', 'four', '?'], dtype=object)"
      ]
     },
     "execution_count": 41,
     "metadata": {},
     "output_type": "execute_result"
    }
   ],
   "source": [
    "cars['num-of-doors'].unique()"
   ]
  },
  {
   "cell_type": "markdown",
   "metadata": {},
   "source": [
    "Okay, we're safe if we go up to twelve :). I just now realize, looking at DQ's accompanying narrative, that you do want to have only letters and numbers and underscores in your header names - that is, no dashes.. and I vaguely remember having written something for that in the past.. "
   ]
  },
  {
   "cell_type": "markdown",
   "metadata": {},
   "source": [
    "In this case, since I supplied the names, it's easier to just re-do the names and read-in.."
   ]
  },
  {
   "cell_type": "code",
   "execution_count": 42,
   "metadata": {},
   "outputs": [
    {
     "data": {
      "text/plain": [
       "['symboling',\n",
       " 'normalized_losses',\n",
       " 'make',\n",
       " 'fuel_type',\n",
       " 'aspiration',\n",
       " 'num_of_doors',\n",
       " 'body_style',\n",
       " 'drive_wheels',\n",
       " 'engine_location',\n",
       " 'wheel_base',\n",
       " 'length',\n",
       " 'width',\n",
       " 'height',\n",
       " 'curb_weight',\n",
       " 'engine_type',\n",
       " 'num_of_cylinders',\n",
       " 'engine_size',\n",
       " 'fuel_system',\n",
       " 'bore',\n",
       " 'stroke',\n",
       " 'compression_ratio',\n",
       " 'horsepower',\n",
       " 'peak_rpm',\n",
       " 'city_mpg',\n",
       " 'highway_mpg',\n",
       " 'price']"
      ]
     },
     "execution_count": 42,
     "metadata": {},
     "output_type": "execute_result"
    }
   ],
   "source": [
    "headers = [ x.replace('-','_') for x in headers]\n",
    "headers"
   ]
  },
  {
   "cell_type": "code",
   "execution_count": 43,
   "metadata": {
    "collapsed": true
   },
   "outputs": [],
   "source": [
    "cars = pd.read_csv( \"imports-85.data\", names=headers)"
   ]
  },
  {
   "cell_type": "markdown",
   "metadata": {},
   "source": [
    "Now, let's take care of the num_doors and cylinders :"
   ]
  },
  {
   "cell_type": "code",
   "execution_count": 44,
   "metadata": {},
   "outputs": [
    {
     "data": {
      "text/plain": [
       "{'eight': 8,\n",
       " 'eleven': 11,\n",
       " 'five': 5,\n",
       " 'four': 4,\n",
       " 'nine': 9,\n",
       " 'one': 1,\n",
       " 'seven': 7,\n",
       " 'six': 6,\n",
       " 'ten': 10,\n",
       " 'three': 3,\n",
       " 'twelve': 12,\n",
       " 'two': 2,\n",
       " 'zero': 0}"
      ]
     },
     "execution_count": 44,
     "metadata": {},
     "output_type": "execute_result"
    }
   ],
   "source": [
    "numbers = ['zero', 'one', 'two', 'three', 'four', 'five', 'six', 'seven', 'eight', 'nine', 'ten', 'eleven', 'twelve']\n",
    "# having written this out, I might as well have written the dict out manually :)\n",
    "map_nums = { num : numbers.index(num) for num in numbers}\n",
    "map_nums"
   ]
  },
  {
   "cell_type": "code",
   "execution_count": 45,
   "metadata": {},
   "outputs": [
    {
     "data": {
      "text/plain": [
       "array([2, 4, '?'], dtype=object)"
      ]
     },
     "execution_count": 45,
     "metadata": {},
     "output_type": "execute_result"
    }
   ],
   "source": [
    "# okay, then..\n",
    "cars.replace( {'num_of_doors' : map_nums} , inplace=True)\n",
    "cars['num_of_doors'].unique()"
   ]
  },
  {
   "cell_type": "markdown",
   "metadata": {},
   "source": [
    "Okay, bit of a googly there.. How many unknowns do we have?"
   ]
  },
  {
   "cell_type": "code",
   "execution_count": 46,
   "metadata": {},
   "outputs": [
    {
     "data": {
      "text/plain": [
       "4    114\n",
       "2     89\n",
       "?      2\n",
       "Name: num_of_doors, dtype: int64"
      ]
     },
     "execution_count": 46,
     "metadata": {},
     "output_type": "execute_result"
    }
   ],
   "source": [
    "cars['num_of_doors'].value_counts()"
   ]
  },
  {
   "cell_type": "markdown",
   "metadata": {},
   "source": [
    "You know, I thought that what wasn't in the mapper dictionary would go to NaN.. Didn't so let's redo this with "
   ]
  },
  {
   "cell_type": "code",
   "execution_count": 47,
   "metadata": {},
   "outputs": [
    {
     "data": {
      "text/plain": [
       "four      159\n",
       "six        24\n",
       "five       11\n",
       "eight       5\n",
       "two         4\n",
       "twelve      1\n",
       "three       1\n",
       "Name: num_of_cylinders, dtype: int64"
      ]
     },
     "execution_count": 47,
     "metadata": {},
     "output_type": "execute_result"
    }
   ],
   "source": [
    "cars['num_of_cylinders'].value_counts()"
   ]
  },
  {
   "cell_type": "code",
   "execution_count": 48,
   "metadata": {},
   "outputs": [
    {
     "data": {
      "text/plain": [
       "array([2, 4])"
      ]
     },
     "execution_count": 48,
     "metadata": {},
     "output_type": "execute_result"
    }
   ],
   "source": [
    "import numpy as np\n",
    "cars.loc[ cars['num_of_doors'] == '?', 'num_of_doors'] = np.NaN\n",
    "cars.dropna( axis='index', subset=['num_of_doors'], inplace=True)\n",
    "cars['num_of_doors'] = cars['num_of_doors'].astype( 'int' )\n",
    "cars['num_of_doors'].unique()"
   ]
  },
  {
   "cell_type": "code",
   "execution_count": 49,
   "metadata": {},
   "outputs": [
    {
     "data": {
      "text/plain": [
       "(203, 26)"
      ]
     },
     "execution_count": 49,
     "metadata": {},
     "output_type": "execute_result"
    }
   ],
   "source": [
    "cars.shape"
   ]
  },
  {
   "cell_type": "markdown",
   "metadata": {},
   "source": [
    "Phew :)"
   ]
  },
  {
   "cell_type": "code",
   "execution_count": 50,
   "metadata": {},
   "outputs": [
    {
     "data": {
      "text/plain": [
       "array([ 4,  6,  5,  3, 12,  2,  8])"
      ]
     },
     "execution_count": 50,
     "metadata": {},
     "output_type": "execute_result"
    }
   ],
   "source": [
    "cars.replace( {'num_of_cylinders' : map_nums} , inplace=True)\n",
    "cars['num_of_cylinders'] = cars['num_of_cylinders'].astype('int')\n",
    "cars['num_of_cylinders'].unique()\n"
   ]
  },
  {
   "cell_type": "code",
   "execution_count": 51,
   "metadata": {},
   "outputs": [
    {
     "data": {
      "text/plain": [
       "?      40\n",
       "161    11\n",
       "91      8\n",
       "150     7\n",
       "128     6\n",
       "104     6\n",
       "134     6\n",
       "168     5\n",
       "65      5\n",
       "74      5\n",
       "103     5\n",
       "85      5\n",
       "102     5\n",
       "94      5\n",
       "95      5\n",
       "118     4\n",
       "106     4\n",
       "93      4\n",
       "122     4\n",
       "154     3\n",
       "101     3\n",
       "83      3\n",
       "115     3\n",
       "137     3\n",
       "148     3\n",
       "125     3\n",
       "192     2\n",
       "153     2\n",
       "129     2\n",
       "119     2\n",
       "81      2\n",
       "108     2\n",
       "158     2\n",
       "188     2\n",
       "164     2\n",
       "87      2\n",
       "110     2\n",
       "89      2\n",
       "194     2\n",
       "113     2\n",
       "197     2\n",
       "145     2\n",
       "90      1\n",
       "231     1\n",
       "142     1\n",
       "121     1\n",
       "256     1\n",
       "78      1\n",
       "98      1\n",
       "77      1\n",
       "186     1\n",
       "107     1\n",
       "Name: normalized_losses, dtype: int64"
      ]
     },
     "execution_count": 51,
     "metadata": {},
     "output_type": "execute_result"
    }
   ],
   "source": [
    "cars['normalized_losses'].value_counts()"
   ]
  },
  {
   "cell_type": "markdown",
   "metadata": {},
   "source": [
    "Okay, they're giving us a choice - replace the ? with an average, or drop it. I say drop the column coz we probably can't use something that we don't know the meaning of anyways.."
   ]
  },
  {
   "cell_type": "markdown",
   "metadata": {},
   "source": [
    "Since some columns, though not numeric have very few unique values, those should be considered features - for example fuel type, drive_wheels, engine-location. The question is, is SKLearn smart enough to use these as features even if they are strings?\n",
    "Probably not. The other thing to keep in mind is, since we're using distance, we have to normalize the columns..\n",
    "\n",
    "Let's start off with a function that tells us (why doesn't something like this exist already?) how many \"?\" we have in each column\n",
    "\n",
    "Maybe the right thing to do is to replace all ? with NaN and then count the NaN's..\n",
    "\n",
    "Another useful function would be the serializer - rwd,fwd,4wd --> 0,1,2 -- you get the idea - make it numeric\n",
    "\n",
    "Really, (given that one of the columns - engine type has one bad entry called \"I\", what I'm really looking for is a count of outliers per column \n",
    "\n",
    "For each column, get the value counts, now look at a couple of things. First, if the column type is object - meaning, string, "
   ]
  },
  {
   "cell_type": "code",
   "execution_count": 52,
   "metadata": {},
   "outputs": [
    {
     "data": {
      "text/plain": [
       "False"
      ]
     },
     "execution_count": 52,
     "metadata": {},
     "output_type": "execute_result"
    }
   ],
   "source": [
    "cars['num_of_doors'].dtypes == np.number"
   ]
  },
  {
   "cell_type": "code",
   "execution_count": 53,
   "metadata": {
    "collapsed": true
   },
   "outputs": [],
   "source": [
    "data = np.array([10,10,11,12,13,10,11,11,14,14,1,15,19,20,17,17,])\n",
    "testcase = pd.Series( data )\n",
    "elems = testcase.tolist()"
   ]
  },
  {
   "cell_type": "code",
   "execution_count": 54,
   "metadata": {},
   "outputs": [
    {
     "data": {
      "text/plain": [
       "[10, 11, 12, 13, 10, 11, 11, 14, 14, 1, 15, 19, 20, 17, 17]"
      ]
     },
     "execution_count": 54,
     "metadata": {},
     "output_type": "execute_result"
    }
   ],
   "source": [
    "elems.remove(10)\n",
    "elems"
   ]
  },
  {
   "cell_type": "code",
   "execution_count": 55,
   "metadata": {},
   "outputs": [
    {
     "data": {
      "text/plain": [
       "True"
      ]
     },
     "execution_count": 55,
     "metadata": {},
     "output_type": "execute_result"
    }
   ],
   "source": [
    "{1:2, 2:3} == { 2:3, 1:2}"
   ]
  },
  {
   "cell_type": "code",
   "execution_count": 56,
   "metadata": {},
   "outputs": [
    {
     "data": {
      "text/plain": [
       "4"
      ]
     },
     "execution_count": 56,
     "metadata": {},
     "output_type": "execute_result"
    }
   ],
   "source": [
    "vcs = cars['price'].value_counts()\n",
    "vcs['?']"
   ]
  },
  {
   "cell_type": "code",
   "execution_count": 57,
   "metadata": {
    "collapsed": true
   },
   "outputs": [],
   "source": [
    "cars.replace('?', np.NaN, inplace=True )\n",
    "for col in cars.columns :\n",
    "    try :\n",
    "        cars[col] = cars[col].astype( 'float' )\n",
    "    except :\n",
    "        pass"
   ]
  },
  {
   "cell_type": "code",
   "execution_count": 58,
   "metadata": {},
   "outputs": [
    {
     "name": "stdout",
     "output_type": "stream",
     "text": [
      "<class 'pandas.core.frame.DataFrame'>\n",
      "Int64Index: 203 entries, 0 to 204\n",
      "Data columns (total 26 columns):\n",
      "symboling            203 non-null float64\n",
      "normalized_losses    163 non-null float64\n",
      "make                 203 non-null object\n",
      "fuel_type            203 non-null object\n",
      "aspiration           203 non-null object\n",
      "num_of_doors         203 non-null float64\n",
      "body_style           203 non-null object\n",
      "drive_wheels         203 non-null object\n",
      "engine_location      203 non-null object\n",
      "wheel_base           203 non-null float64\n",
      "length               203 non-null float64\n",
      "width                203 non-null float64\n",
      "height               203 non-null float64\n",
      "curb_weight          203 non-null float64\n",
      "engine_type          203 non-null object\n",
      "num_of_cylinders     203 non-null float64\n",
      "engine_size          203 non-null float64\n",
      "fuel_system          203 non-null object\n",
      "bore                 199 non-null float64\n",
      "stroke               199 non-null float64\n",
      "compression_ratio    203 non-null float64\n",
      "horsepower           201 non-null float64\n",
      "peak_rpm             201 non-null float64\n",
      "city_mpg             203 non-null float64\n",
      "highway_mpg          203 non-null float64\n",
      "price                199 non-null float64\n",
      "dtypes: float64(18), object(8)\n",
      "memory usage: 42.8+ KB\n"
     ]
    }
   ],
   "source": [
    "cars.info()"
   ]
  },
  {
   "cell_type": "code",
   "execution_count": 59,
   "metadata": {},
   "outputs": [
    {
     "name": "stdout",
     "output_type": "stream",
     "text": [
      "Dropping rows from symboling\n",
      "Dropping Column : normalized_losses\n",
      "Dropping rows from make\n",
      "Dropping rows from fuel_type\n",
      "Dropping rows from aspiration\n",
      "Dropping rows from num_of_doors\n",
      "Dropping rows from body_style\n",
      "Dropping rows from drive_wheels\n",
      "Dropping rows from engine_location\n",
      "Dropping rows from wheel_base\n",
      "Dropping rows from length\n",
      "Dropping rows from width\n",
      "Dropping rows from height\n",
      "Dropping rows from curb_weight\n",
      "Dropping rows from engine_type\n",
      "Dropping rows from num_of_cylinders\n",
      "Dropping rows from engine_size\n",
      "Dropping rows from fuel_system\n",
      "Dropping rows from bore\n",
      "Dropping rows from stroke\n",
      "Dropping rows from compression_ratio\n",
      "Dropping rows from horsepower\n",
      "Dropping rows from peak_rpm\n",
      "Dropping rows from city_mpg\n",
      "Dropping rows from highway_mpg\n",
      "Dropping rows from price\n"
     ]
    }
   ],
   "source": [
    "for col in cars.columns :\n",
    "    if cars[col].isna( ).value_counts( normalize=True )[False] < 0.95 :\n",
    "        print( \"Dropping Column : {}\".format( col ) )\n",
    "        cars.drop( axis='columns', columns=[col] , inplace=True )\n",
    "        continue\n",
    "    else : # drop only the rows\n",
    "        print( \"Dropping rows from {}\".format( col ) )\n",
    "        cars.dropna( axis='index', subset=[col] , inplace=True )"
   ]
  },
  {
   "cell_type": "code",
   "execution_count": 60,
   "metadata": {},
   "outputs": [
    {
     "name": "stdout",
     "output_type": "stream",
     "text": [
      "<class 'pandas.core.frame.DataFrame'>\n",
      "Int64Index: 193 entries, 0 to 204\n",
      "Data columns (total 25 columns):\n",
      "symboling            193 non-null float64\n",
      "make                 193 non-null object\n",
      "fuel_type            193 non-null object\n",
      "aspiration           193 non-null object\n",
      "num_of_doors         193 non-null float64\n",
      "body_style           193 non-null object\n",
      "drive_wheels         193 non-null object\n",
      "engine_location      193 non-null object\n",
      "wheel_base           193 non-null float64\n",
      "length               193 non-null float64\n",
      "width                193 non-null float64\n",
      "height               193 non-null float64\n",
      "curb_weight          193 non-null float64\n",
      "engine_type          193 non-null object\n",
      "num_of_cylinders     193 non-null float64\n",
      "engine_size          193 non-null float64\n",
      "fuel_system          193 non-null object\n",
      "bore                 193 non-null float64\n",
      "stroke               193 non-null float64\n",
      "compression_ratio    193 non-null float64\n",
      "horsepower           193 non-null float64\n",
      "peak_rpm             193 non-null float64\n",
      "city_mpg             193 non-null float64\n",
      "highway_mpg          193 non-null float64\n",
      "price                193 non-null float64\n",
      "dtypes: float64(17), object(8)\n",
      "memory usage: 39.2+ KB\n"
     ]
    }
   ],
   "source": [
    "cars.info()"
   ]
  },
  {
   "cell_type": "code",
   "execution_count": 28,
   "metadata": {},
   "outputs": [
    {
     "name": "stdout",
     "output_type": "stream",
     "text": [
      "<class 'pandas.core.frame.DataFrame'>\n",
      "Int64Index: 193 entries, 0 to 204\n",
      "Data columns (total 17 columns):\n",
      "symboling            193 non-null float64\n",
      "num_of_doors         193 non-null float64\n",
      "wheel_base           193 non-null float64\n",
      "length               193 non-null float64\n",
      "width                193 non-null float64\n",
      "height               193 non-null float64\n",
      "curb_weight          193 non-null float64\n",
      "num_of_cylinders     193 non-null float64\n",
      "engine_size          193 non-null float64\n",
      "bore                 193 non-null float64\n",
      "stroke               193 non-null float64\n",
      "compression_ratio    193 non-null float64\n",
      "horsepower           193 non-null float64\n",
      "peak_rpm             193 non-null float64\n",
      "city_mpg             193 non-null float64\n",
      "highway_mpg          193 non-null float64\n",
      "price                193 non-null float64\n",
      "dtypes: float64(17)\n",
      "memory usage: 27.1 KB\n"
     ]
    }
   ],
   "source": [
    "ncars = cars.copy()\n",
    "for col in ncars.columns :\n",
    "    if not pd.api.types.is_numeric_dtype( ncars[col].dtypes ) :\n",
    "        ncars.drop( axis='columns', columns=[col] , inplace=True )\n",
    "ncars.info()"
   ]
  },
  {
   "cell_type": "code",
   "execution_count": 29,
   "metadata": {
    "scrolled": true
   },
   "outputs": [
    {
     "data": {
      "text/html": [
       "<div>\n",
       "<style scoped>\n",
       "    .dataframe tbody tr th:only-of-type {\n",
       "        vertical-align: middle;\n",
       "    }\n",
       "\n",
       "    .dataframe tbody tr th {\n",
       "        vertical-align: top;\n",
       "    }\n",
       "\n",
       "    .dataframe thead th {\n",
       "        text-align: right;\n",
       "    }\n",
       "</style>\n",
       "<table border=\"1\" class=\"dataframe\">\n",
       "  <thead>\n",
       "    <tr style=\"text-align: right;\">\n",
       "      <th></th>\n",
       "      <th>symboling</th>\n",
       "      <th>num_of_doors</th>\n",
       "      <th>wheel_base</th>\n",
       "      <th>length</th>\n",
       "      <th>width</th>\n",
       "      <th>height</th>\n",
       "      <th>curb_weight</th>\n",
       "      <th>num_of_cylinders</th>\n",
       "      <th>engine_size</th>\n",
       "      <th>bore</th>\n",
       "      <th>stroke</th>\n",
       "      <th>compression_ratio</th>\n",
       "      <th>horsepower</th>\n",
       "      <th>peak_rpm</th>\n",
       "      <th>city_mpg</th>\n",
       "      <th>highway_mpg</th>\n",
       "      <th>price</th>\n",
       "    </tr>\n",
       "  </thead>\n",
       "  <tbody>\n",
       "    <tr>\n",
       "      <th>0</th>\n",
       "      <td>1.782215</td>\n",
       "      <td>-1.172839</td>\n",
       "      <td>-1.678015</td>\n",
       "      <td>-0.442872</td>\n",
       "      <td>-0.839080</td>\n",
       "      <td>-2.117092</td>\n",
       "      <td>-0.025646</td>\n",
       "      <td>-0.410180</td>\n",
       "      <td>0.045098</td>\n",
       "      <td>0.511697</td>\n",
       "      <td>-1.803495</td>\n",
       "      <td>-0.287525</td>\n",
       "      <td>0.198054</td>\n",
       "      <td>-0.212806</td>\n",
       "      <td>-0.677292</td>\n",
       "      <td>-0.555613</td>\n",
       "      <td>0.025958</td>\n",
       "    </tr>\n",
       "    <tr>\n",
       "      <th>1</th>\n",
       "      <td>1.782215</td>\n",
       "      <td>-1.172839</td>\n",
       "      <td>-1.678015</td>\n",
       "      <td>-0.442872</td>\n",
       "      <td>-0.839080</td>\n",
       "      <td>-2.117092</td>\n",
       "      <td>-0.025646</td>\n",
       "      <td>-0.410180</td>\n",
       "      <td>0.045098</td>\n",
       "      <td>0.511697</td>\n",
       "      <td>-1.803495</td>\n",
       "      <td>-0.287525</td>\n",
       "      <td>0.198054</td>\n",
       "      <td>-0.212806</td>\n",
       "      <td>-0.677292</td>\n",
       "      <td>-0.555613</td>\n",
       "      <td>0.397446</td>\n",
       "    </tr>\n",
       "    <tr>\n",
       "      <th>2</th>\n",
       "      <td>0.163544</td>\n",
       "      <td>-1.172839</td>\n",
       "      <td>-0.719041</td>\n",
       "      <td>-0.250543</td>\n",
       "      <td>-0.184200</td>\n",
       "      <td>-0.613816</td>\n",
       "      <td>0.496473</td>\n",
       "      <td>1.544506</td>\n",
       "      <td>0.574066</td>\n",
       "      <td>-2.388614</td>\n",
       "      <td>0.701095</td>\n",
       "      <td>-0.287525</td>\n",
       "      <td>1.330822</td>\n",
       "      <td>-0.212806</td>\n",
       "      <td>-0.990387</td>\n",
       "      <td>-0.702307</td>\n",
       "      <td>0.397446</td>\n",
       "    </tr>\n",
       "    <tr>\n",
       "      <th>3</th>\n",
       "      <td>0.972880</td>\n",
       "      <td>0.848214</td>\n",
       "      <td>0.142410</td>\n",
       "      <td>0.182198</td>\n",
       "      <td>0.143240</td>\n",
       "      <td>0.179580</td>\n",
       "      <td>-0.426254</td>\n",
       "      <td>-0.410180</td>\n",
       "      <td>-0.459826</td>\n",
       "      <td>-0.516262</td>\n",
       "      <td>0.479169</td>\n",
       "      <td>-0.036110</td>\n",
       "      <td>-0.039037</td>\n",
       "      <td>0.853987</td>\n",
       "      <td>-0.207649</td>\n",
       "      <td>-0.115531</td>\n",
       "      <td>0.082206</td>\n",
       "    </tr>\n",
       "    <tr>\n",
       "      <th>4</th>\n",
       "      <td>0.972880</td>\n",
       "      <td>0.848214</td>\n",
       "      <td>0.077395</td>\n",
       "      <td>0.182198</td>\n",
       "      <td>0.236794</td>\n",
       "      <td>0.179580</td>\n",
       "      <td>0.498371</td>\n",
       "      <td>0.567163</td>\n",
       "      <td>0.189362</td>\n",
       "      <td>-0.516262</td>\n",
       "      <td>0.479169</td>\n",
       "      <td>-0.538940</td>\n",
       "      <td>0.303427</td>\n",
       "      <td>0.853987</td>\n",
       "      <td>-1.146935</td>\n",
       "      <td>-1.289083</td>\n",
       "      <td>0.514888</td>\n",
       "    </tr>\n",
       "  </tbody>\n",
       "</table>\n",
       "</div>"
      ],
      "text/plain": [
       "   symboling  num_of_doors  wheel_base    length     width    height  \\\n",
       "0   1.782215     -1.172839   -1.678015 -0.442872 -0.839080 -2.117092   \n",
       "1   1.782215     -1.172839   -1.678015 -0.442872 -0.839080 -2.117092   \n",
       "2   0.163544     -1.172839   -0.719041 -0.250543 -0.184200 -0.613816   \n",
       "3   0.972880      0.848214    0.142410  0.182198  0.143240  0.179580   \n",
       "4   0.972880      0.848214    0.077395  0.182198  0.236794  0.179580   \n",
       "\n",
       "   curb_weight  num_of_cylinders  engine_size      bore    stroke  \\\n",
       "0    -0.025646         -0.410180     0.045098  0.511697 -1.803495   \n",
       "1    -0.025646         -0.410180     0.045098  0.511697 -1.803495   \n",
       "2     0.496473          1.544506     0.574066 -2.388614  0.701095   \n",
       "3    -0.426254         -0.410180    -0.459826 -0.516262  0.479169   \n",
       "4     0.498371          0.567163     0.189362 -0.516262  0.479169   \n",
       "\n",
       "   compression_ratio  horsepower  peak_rpm  city_mpg  highway_mpg     price  \n",
       "0          -0.287525    0.198054 -0.212806 -0.677292    -0.555613  0.025958  \n",
       "1          -0.287525    0.198054 -0.212806 -0.677292    -0.555613  0.397446  \n",
       "2          -0.287525    1.330822 -0.212806 -0.990387    -0.702307  0.397446  \n",
       "3          -0.036110   -0.039037  0.853987 -0.207649    -0.115531  0.082206  \n",
       "4          -0.538940    0.303427  0.853987 -1.146935    -1.289083  0.514888  "
      ]
     },
     "execution_count": 29,
     "metadata": {},
     "output_type": "execute_result"
    }
   ],
   "source": [
    "ncars = (ncars - ncars.mean() ) / ncars.std()\n",
    "ncars.head()"
   ]
  },
  {
   "cell_type": "code",
   "execution_count": 63,
   "metadata": {
    "collapsed": true
   },
   "outputs": [],
   "source": [
    "from sklearn.neighbors import KNeighborsRegressor       # scikit learn machine learning python toolkit\n",
    "from sklearn.metrics import mean_squared_error  # scikit learn\n",
    "from sklearn.model_selection import cross_val_score, KFold  # scikit learn"
   ]
  },
  {
   "cell_type": "code",
   "execution_count": 68,
   "metadata": {},
   "outputs": [],
   "source": [
    "def knn_train_test( df, train_col, target_col, k=5 ) :\n",
    "    \"\"\" dataframe, string, string --> float\"\"\"\n",
    "    N_split = int( len( df ) * 0.8 )\n",
    "    train_df = df[ : N_split ]\n",
    "    test_df = df[ N_split : ]\n",
    "    knn = KNeighborsRegressor( n_neighbors=k )\n",
    "    knn.fit( train_df[[train_col]], train_df[target_col] )\n",
    "    predictions = knn.predict( test_df[[train_col]] )\n",
    "    mse = mean_squared_error( test_df[target_col], predictions )\n",
    "    return mse**0.5"
   ]
  },
  {
   "cell_type": "code",
   "execution_count": 69,
   "metadata": {},
   "outputs": [
    {
     "name": "stdout",
     "output_type": "stream",
     "text": [
      "Column symboling, RMSE : 1.0700244223066775\n",
      "Column num_of_doors, RMSE : 0.701868566624623\n",
      "Column wheel_base, RMSE : 0.8079597777125228\n",
      "Column length, RMSE : 0.790698250158832\n",
      "Column width, RMSE : 0.4416908438547102\n",
      "Column height, RMSE : 0.7978417499812643\n",
      "Column curb_weight, RMSE : 0.2792334578024877\n",
      "Column num_of_cylinders, RMSE : 0.5085222201744911\n",
      "Column engine_size, RMSE : 0.47372067492569675\n",
      "Column bore, RMSE : 0.9585299139302845\n",
      "Column stroke, RMSE : 1.0034476090748576\n",
      "Column compression_ratio, RMSE : 0.6100059211892948\n",
      "Column horsepower, RMSE : 0.5463033812482261\n",
      "Column peak_rpm, RMSE : 0.9465885129449303\n",
      "Column city_mpg, RMSE : 0.47027656237385784\n",
      "Column highway_mpg, RMSE : 0.34393339169356846\n"
     ]
    }
   ],
   "source": [
    "ncols = list( ncars.columns )\n",
    "ncols.remove( 'price')\n",
    "for col in ncols :\n",
    "    print( \"Column {}, RMSE : {}\".format( col, knn_train_test( ncars, col, 'price')))\n",
    "    "
   ]
  },
  {
   "cell_type": "code",
   "execution_count": 52,
   "metadata": {},
   "outputs": [
    {
     "name": "stdout",
     "output_type": "stream",
     "text": [
      "Column symboling to price : -0.08483538319906123\n",
      "Column num_of_doors to price : 0.04646042105062982\n",
      "Column wheel_base to price : 0.5849506223058162\n",
      "Column length to price : 0.6959279144435726\n",
      "Column width to price : 0.7546488948382368\n",
      "Column height to price : 0.13623381350738986\n",
      "Column curb_weight to price : 0.8353677536262232\n",
      "Column num_of_cylinders to price : 0.7460069395538497\n",
      "Column engine_size to price : 0.8887784953105814\n",
      "Column bore to price : 0.5462952748017493\n",
      "Column stroke to price : 0.09600668351356277\n",
      "Column compression_ratio to price : 0.07448261617230939\n",
      "Column horsepower to price : 0.8124532046013468\n",
      "Column peak_rpm to price : -0.1038353120701144\n",
      "Column city_mpg to price : -0.7066179934987955\n",
      "Column highway_mpg to price : -0.7191776883830876\n"
     ]
    }
   ],
   "source": [
    "for col in ncols  :\n",
    "    print( \"Column {} to price : {}\".format(col, ncars['price'].corr( ncars[col]) ) )"
   ]
  },
  {
   "cell_type": "code",
   "execution_count": 66,
   "metadata": {},
   "outputs": [
    {
     "data": {
      "image/png": "[encoded data removed]",
      "text/plain": [
       "<matplotlib.figure.Figure at 0x7fbbc2175828>"
      ]
     },
     "metadata": {},
     "output_type": "display_data"
    },
    {
     "data": {
      "image/png": "[encoded data removed]",
      "text/plain": [
       "<matplotlib.figure.Figure at 0x7fbbc009a438>"
      ]
     },
     "metadata": {},
     "output_type": "display_data"
    },
    {
     "data": {
      "image/png": "[encoded data removed]",
      "text/plain": [
       "<matplotlib.figure.Figure at 0x7fbbc0040ac8>"
      ]
     },
     "metadata": {},
     "output_type": "display_data"
    },
    {
     "data": {
      "image/png": "[encoded data removed]",
      "text/plain": [
       "<matplotlib.figure.Figure at 0x7fbbbffa4358>"
      ]
     },
     "metadata": {},
     "output_type": "display_data"
    },
    {
     "data": {
      "image/png": "[encoded data removed]",
      "text/plain": [
       "<matplotlib.figure.Figure at 0x7fbbc00e3e48>"
      ]
     },
     "metadata": {},
     "output_type": "display_data"
    },
    {
     "data": {
      "image/png": "[encoded data removed]",
      "text/plain": [
       "<matplotlib.figure.Figure at 0x7fbbc0040a58>"
      ]
     },
     "metadata": {},
     "output_type": "display_data"
    },
    {
     "data": {
      "image/png": "[encoded data removed]",
      "text/plain": [
       "<matplotlib.figure.Figure at 0x7fbbbffb9e80>"
      ]
     },
     "metadata": {},
     "output_type": "display_data"
    },
    {
     "data": {
      "image/png": "[encoded data removed]",
      "text/plain": [
       "<matplotlib.figure.Figure at 0x7fbbbffc1940>"
      ]
     },
     "metadata": {},
     "output_type": "display_data"
    },
    {
     "data": {
      "image/png": "[encoded data removed]",
      "text/plain": [
       "<matplotlib.figure.Figure at 0x7fbbc2171048>"
      ]
     },
     "metadata": {},
     "output_type": "display_data"
    },
    {
     "data": {
      "image/png": "[encoded data removed]",
      "text/plain": [
       "<matplotlib.figure.Figure at 0x7fbbc00c1fd0>"
      ]
     },
     "metadata": {},
     "output_type": "display_data"
    },
    {
     "data": {
      "image/png": "[encoded data removed]",
      "text/plain": [
       "<matplotlib.figure.Figure at 0x7fbbbff912e8>"
      ]
     },
     "metadata": {},
     "output_type": "display_data"
    },
    {
     "data": {
      "image/png": "[encoded data removed]",
      "text/plain": [
       "<matplotlib.figure.Figure at 0x7fbbc2171fd0>"
      ]
     },
     "metadata": {},
     "output_type": "display_data"
    },
    {
     "data": {
      "image/png": "[encoded data removed]",
      "text/plain": [
       "<matplotlib.figure.Figure at 0x7fbbc0008198>"
      ]
     },
     "metadata": {},
     "output_type": "display_data"
    },
    {
     "data": {
      "image/png": "[encoded data removed]",
      "text/plain": [
       "<matplotlib.figure.Figure at 0x7fbbbff7da58>"
      ]
     },
     "metadata": {},
     "output_type": "display_data"
    },
    {
     "data": {
      "image/png": "[encoded data removed]",
      "text/plain": [
       "<matplotlib.figure.Figure at 0x7fbbbfe01198>"
      ]
     },
     "metadata": {},
     "output_type": "display_data"
    },
    {
     "data": {
      "image/png": "[encoded data removed]",
      "text/plain": [
       "<matplotlib.figure.Figure at 0x7fbbbffe6dd8>"
      ]
     },
     "metadata": {},
     "output_type": "display_data"
    }
   ],
   "source": [
    "%matplotlib inline\n",
    "import matplotlib.pyplot as plt\n",
    "\n",
    "k_vals = list( range( 1,10,2 ) )\n",
    "for col in ncols :\n",
    "    rmses = []\n",
    "    for k in k_vals :\n",
    "        rmses.append( knn_train_test( ncars, col, 'price' , k) )\n",
    "    plt.plot( k_vals, rmses, color='blue' )\n",
    "    plt.title( col )\n",
    "    plt.show()"
   ]
  },
  {
   "cell_type": "markdown",
   "metadata": {},
   "source": [
    "Univariate : \n",
    "\n",
    "| Column            | RMSE        |\n",
    "| ----------------- | ----------- |\n",
    "| curb_weight       | 0.279233458 |\n",
    "| highway_mpg       | 0.343933392 |\n",
    "| width             | 0.441690844 |\n",
    "| city_mpg          | 0.470276562 |\n",
    "| engine_size       | 0.473720675 |\n",
    "| num_of_cylinders  | 0.50852222  |\n",
    "| horsepower        | 0.546303381 |\n",
    "| compression_ratio | 0.610005921 |\n",
    "| num_of_doors      | 0.701868567 |\n",
    "| length            | 0.79069825  |\n",
    "| height            | 0.79784175  |\n",
    "| wheel_base        | 0.807959778 |\n",
    "| peak_rpm          | 0.946588513 |\n",
    "| bore              | 0.958529914 |\n",
    "| stroke            | 1.003447609 |\n",
    "| symboling         | 1.070024422 |\n",
    "\n",
    "thanks : https://csvtomd.com/#/"
   ]
  },
  {
   "cell_type": "code",
   "execution_count": 72,
   "metadata": {
    "collapsed": true
   },
   "outputs": [],
   "source": [
    "# now we start using multiple columns :\n",
    "def knn_train_test( df, train_cols, target_col, k=5 ) :\n",
    "    \"\"\" dataframe, string, string, int --> float\"\"\"\n",
    "    N_split = int( len( df ) * 0.8 )\n",
    "    train_df = df[ : N_split ]\n",
    "    test_df = df[ N_split : ]\n",
    "    knn = KNeighborsRegressor( n_neighbors=k )\n",
    "    knn.fit( train_df[ train_cols ], train_df[target_col] )\n",
    "    predictions = knn.predict( test_df[ train_cols ] )\n",
    "    mse = mean_squared_error( test_df[target_col], predictions )\n",
    "    return mse**0.5"
   ]
  },
  {
   "cell_type": "code",
   "execution_count": 74,
   "metadata": {},
   "outputs": [
    {
     "data": {
      "text/plain": [
       "0.34529730427956995"
      ]
     },
     "execution_count": 74,
     "metadata": {},
     "output_type": "execute_result"
    }
   ],
   "source": [
    "# Now, use two best - curb_weight and highway_mpg with k=5 (default) :\n",
    "rmse = knn_train_test( ncars, ['curb_weight', 'highway_mpg'], 'price' , k)\n",
    "rmse"
   ]
  },
  {
   "cell_type": "markdown",
   "metadata": {},
   "source": [
    "Nice. How do you make sense of that? Take the two best features and, together, they give you something worse than either one by itself.."
   ]
  },
  {
   "cell_type": "code",
   "execution_count": 75,
   "metadata": {},
   "outputs": [
    {
     "data": {
      "text/plain": [
       "0.3040400273579191"
      ]
     },
     "execution_count": 75,
     "metadata": {},
     "output_type": "execute_result"
    }
   ],
   "source": [
    "# Now the three best : curb_weight, highway_mpg and width\n",
    "rmse = knn_train_test( ncars, ['curb_weight', 'highway_mpg', 'width'], 'price' , k)\n",
    "rmse"
   ]
  },
  {
   "cell_type": "code",
   "execution_count": 76,
   "metadata": {},
   "outputs": [
    {
     "data": {
      "text/plain": [
       "0.28037506732354867"
      ]
     },
     "execution_count": 76,
     "metadata": {},
     "output_type": "execute_result"
    }
   ],
   "source": [
    "# now with top four : adding city_mpg\n",
    "rmse = knn_train_test( ncars, ['curb_weight', 'highway_mpg', 'width', 'city_mpg'], 'price' , k)\n",
    "rmse"
   ]
  },
  {
   "cell_type": "markdown",
   "metadata": {},
   "source": [
    "Great, and still no better than curb_weight by itself.."
   ]
  },
  {
   "cell_type": "code",
   "execution_count": 77,
   "metadata": {},
   "outputs": [
    {
     "data": {
      "text/plain": [
       "0.2992133900213522"
      ]
     },
     "execution_count": 77,
     "metadata": {},
     "output_type": "execute_result"
    }
   ],
   "source": [
    "# top five :\n",
    "rmse = knn_train_test( ncars, ['curb_weight', 'highway_mpg', 'width', 'city_mpg', 'engine_size'], 'price' , k)\n",
    "rmse"
   ]
  },
  {
   "cell_type": "code",
   "execution_count": 78,
   "metadata": {
    "collapsed": true
   },
   "outputs": [],
   "source": [
    "# For top three models : ie : curb_weight solo, curb,hwy_mpg, width, city_mpg and those plus engine_size, \n",
    "# vary k from 1 to 25 - hyperparameter tuning and find the best k value for each\n",
    "\n",
    "m1_cols = ['curb_weight']\n",
    "m2_cols = ['curb_weight', 'highway_mpg', 'width', 'city_mpg']\n",
    "m3_cols = ['curb_weight', 'highway_mpg', 'width', 'city_mpg', 'engine_size']"
   ]
  },
  {
   "cell_type": "code",
   "execution_count": 79,
   "metadata": {},
   "outputs": [
    {
     "data": {
      "image/png": "[encoded data removed]",
      "text/plain": [
       "<matplotlib.figure.Figure at 0x7fbbbfd3ccc0>"
      ]
     },
     "metadata": {},
     "output_type": "display_data"
    }
   ],
   "source": [
    "rmses = []\n",
    "k_vals = list( range(1,25,2))\n",
    "for k in k_vals :\n",
    "    rmses.append( knn_train_test( ncars, m1_cols, 'price' , k) )\n",
    "plt.plot( k_vals, rmses, color='blue' )\n",
    "plt.show()"
   ]
  },
  {
   "cell_type": "code",
   "execution_count": 80,
   "metadata": {},
   "outputs": [
    {
     "data": {
      "image/png": "[encoded data removed]",
      "text/plain": [
       "<matplotlib.figure.Figure at 0x7fbbbfd55198>"
      ]
     },
     "metadata": {},
     "output_type": "display_data"
    }
   ],
   "source": [
    "rmses = []\n",
    "k_vals = list( range(1,25,2))\n",
    "for k in k_vals :\n",
    "    rmses.append( knn_train_test( ncars, m2_cols, 'price' , k) )\n",
    "plt.plot( k_vals, rmses, color='blue' )\n",
    "plt.show()"
   ]
  },
  {
   "cell_type": "code",
   "execution_count": 81,
   "metadata": {},
   "outputs": [
    {
     "data": {
      "image/png": "[encoded data removed]",
      "text/plain": [
       "<matplotlib.figure.Figure at 0x7fbbbfdd3b70>"
      ]
     },
     "metadata": {},
     "output_type": "display_data"
    }
   ],
   "source": [
    "rmses = []\n",
    "k_vals = list( range(1,25,2))\n",
    "for k in k_vals :\n",
    "    rmses.append( knn_train_test( ncars, m3_cols, 'price' , k) )\n",
    "plt.plot( k_vals, rmses, color='blue' )\n",
    "plt.show()"
   ]
  },
  {
   "cell_type": "markdown",
   "metadata": {},
   "source": [
    "only curb_weight  : 0.28 with K=5\n",
    "'curb_weight', 'highway_mpg', 'width', 'city_mpg' : 0.22 with K=18\n",
    "'curb_weight', 'highway_mpg', 'width', 'city_mpg', 'engine_size' : 0.26 with K= 15\n",
    "\n",
    "What accounts for the different K values that are optimal with different feature sets? Hmmm..\n"
   ]
  },
  {
   "cell_type": "markdown",
   "metadata": {},
   "source": [
    "Now, using library functions to do k-fold cross validation :"
   ]
  },
  {
   "cell_type": "code",
   "execution_count": 82,
   "metadata": {
    "collapsed": true
   },
   "outputs": [],
   "source": [
    "from sklearn.model_selection import cross_val_score, KFold\n",
    "from sklearn.neighbors import KNeighborsRegressor"
   ]
  },
  {
   "cell_type": "code",
   "execution_count": 85,
   "metadata": {
    "collapsed": true
   },
   "outputs": [],
   "source": [
    "# now we start using multiple columns :\n",
    "def knn_train_test( df, train_cols, target_col, k=5, kfold=False ) :\n",
    "    \"\"\" dataframe, string, string, int, bool --> float\"\"\"\n",
    "    # if you specify kfold=True, then, instead of 80/20 single split, full-fledged k-fold \n",
    "    # cross validation will be used to generate the averge RMSE value\n",
    "    if not kfold :\n",
    "        N_split = int( len( df ) * 0.8 )\n",
    "        train_df = df[ : N_split ]\n",
    "        test_df = df[ N_split : ]\n",
    "        knn = KNeighborsRegressor( n_neighbors=k )\n",
    "        knn.fit( train_df[ train_cols ], train_df[target_col] )\n",
    "        predictions = knn.predict( test_df[ train_cols ] )\n",
    "        mse = mean_squared_error( test_df[target_col], predictions )\n",
    "        return mse**0.5\n",
    "    else :\n",
    "        kf = KFold( 5 , shuffle=True, random_state=1 )\n",
    "        knn = KNeighborsRegressor( n_neighbors=k )\n",
    "        mses = cross_val_score(knn , df[train_cols], df[target_col], scoring='neg_mean_squared_error' , cv=kf)\n",
    "        rmses = [ (abs(x))**0.5 for x in mses]\n",
    "        avg_rmse = np.mean( rmses )\n",
    "        return avg_rmse"
   ]
  },
  {
   "cell_type": "code",
   "execution_count": 86,
   "metadata": {
    "scrolled": true
   },
   "outputs": [
    {
     "data": {
      "image/png": "[encoded data removed]",
      "text/plain": [
       "<matplotlib.figure.Figure at 0x7fbbbfd1eeb8>"
      ]
     },
     "metadata": {},
     "output_type": "display_data"
    }
   ],
   "source": [
    "rmses = []\n",
    "k_vals = list( range(1,25,2))\n",
    "for k in k_vals :\n",
    "    rmses.append( knn_train_test( ncars, m1_cols, 'price' , k, kfold=True) )\n",
    "plt.plot( k_vals, rmses, color='blue' )\n",
    "plt.show()"
   ]
  },
  {
   "cell_type": "code",
   "execution_count": 87,
   "metadata": {},
   "outputs": [
    {
     "data": {
      "image/png": "[encoded data removed]",
      "text/plain": [
       "<matplotlib.figure.Figure at 0x7fbbcc998470>"
      ]
     },
     "metadata": {},
     "output_type": "display_data"
    }
   ],
   "source": [
    "rmses = []\n",
    "k_vals = list( range(1,25,2))\n",
    "for k in k_vals :\n",
    "    rmses.append( knn_train_test( ncars, m2_cols, 'price' , k, kfold=True) )\n",
    "plt.plot( k_vals, rmses, color='blue' )\n",
    "plt.show()"
   ]
  },
  {
   "cell_type": "code",
   "execution_count": 88,
   "metadata": {},
   "outputs": [
    {
     "data": {
      "image/png": "[encoded data removed]",
      "text/plain": [
       "<matplotlib.figure.Figure at 0x7fbbc0117908>"
      ]
     },
     "metadata": {},
     "output_type": "display_data"
    }
   ],
   "source": [
    "rmses = []\n",
    "k_vals = list( range(1,25,2))\n",
    "for k in k_vals :\n",
    "    rmses.append( knn_train_test( ncars, m3_cols, 'price' , k, kfold=True) )\n",
    "plt.plot( k_vals, rmses, color='blue' )\n",
    "plt.show()"
   ]
  }
 ],
 "metadata": {
  "kernelspec": {
   "display_name": "Python 3",
   "language": "python",
   "name": "python3"
  },
  "language_info": {
   "codemirror_mode": {
    "name": "ipython",
    "version": 3
   },
   "file_extension": ".py",
   "mimetype": "text/x-python",
   "name": "python",
   "nbconvert_exporter": "python",
   "pygments_lexer": "ipython3",
   "version": "3.8.3"
  }
 },
 "nbformat": 4,
 "nbformat_minor": 2
}
