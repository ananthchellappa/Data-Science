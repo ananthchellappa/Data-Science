{
 "cells": [
  {
   "cell_type": "markdown",
   "metadata": {},
   "source": [
    "# Learning from AirBnB Data\n",
    "\n",
    "Starting with Tom Lee's CSV from : https://s3.amazonaws.com/tomslee-airbnb-data-2/washington.zip, Let's see if we can answer a few questions :\n",
    "\n",
    "1. Are the listing ID's unique - that is, the dataset has one entry (row) per room ID?\n",
    "2. In this dataset, what is the maximum number of listings that any host has?\n",
    "3. Can we predict the price given some features of the listing (an exercise in K-Nearest-Neighbors supervised machine learning and hyperparameters (N) tuning (optimization) and feature selection - find out which ones really help you build a good model)?\n",
    "\n",
    "The learning that enabled this came from DataQuest's online course.."
   ]
  },
  {
   "cell_type": "code",
   "execution_count": 2,
   "metadata": {},
   "outputs": [
    {
     "data": {
      "text/html": [
       "<div>\n",
       "<style scoped>\n",
       "    .dataframe tbody tr th:only-of-type {\n",
       "        vertical-align: middle;\n",
       "    }\n",
       "\n",
       "    .dataframe tbody tr th {\n",
       "        vertical-align: top;\n",
       "    }\n",
       "\n",
       "    .dataframe thead th {\n",
       "        text-align: right;\n",
       "    }\n",
       "</style>\n",
       "<table border=\"1\" class=\"dataframe\">\n",
       "  <thead>\n",
       "    <tr style=\"text-align: right;\">\n",
       "      <th></th>\n",
       "      <th>room_id</th>\n",
       "      <th>survey_id</th>\n",
       "      <th>host_id</th>\n",
       "      <th>room_type</th>\n",
       "      <th>country</th>\n",
       "      <th>city</th>\n",
       "      <th>borough</th>\n",
       "      <th>neighborhood</th>\n",
       "      <th>reviews</th>\n",
       "      <th>overall_satisfaction</th>\n",
       "      <th>accommodates</th>\n",
       "      <th>bedrooms</th>\n",
       "      <th>bathrooms</th>\n",
       "      <th>price</th>\n",
       "      <th>minstay</th>\n",
       "      <th>last_modified</th>\n",
       "      <th>latitude</th>\n",
       "      <th>longitude</th>\n",
       "      <th>location</th>\n",
       "    </tr>\n",
       "  </thead>\n",
       "  <tbody>\n",
       "    <tr>\n",
       "      <th>0</th>\n",
       "      <td>3732219</td>\n",
       "      <td>1433</td>\n",
       "      <td>280636</td>\n",
       "      <td>Shared room</td>\n",
       "      <td>NaN</td>\n",
       "      <td>Washington</td>\n",
       "      <td>NaN</td>\n",
       "      <td>Columbia Heights</td>\n",
       "      <td>0</td>\n",
       "      <td>0.0</td>\n",
       "      <td>3</td>\n",
       "      <td>1.0</td>\n",
       "      <td>NaN</td>\n",
       "      <td>129.0</td>\n",
       "      <td>NaN</td>\n",
       "      <td>2017-07-11 08:53:56.381540</td>\n",
       "      <td>38.931081</td>\n",
       "      <td>-77.030618</td>\n",
       "      <td>0101000020E6100000D02A33A5F54153C0A77686A92D77...</td>\n",
       "    </tr>\n",
       "    <tr>\n",
       "      <th>1</th>\n",
       "      <td>15087225</td>\n",
       "      <td>1433</td>\n",
       "      <td>90860645</td>\n",
       "      <td>Shared room</td>\n",
       "      <td>NaN</td>\n",
       "      <td>Washington</td>\n",
       "      <td>NaN</td>\n",
       "      <td>Brentwood</td>\n",
       "      <td>6</td>\n",
       "      <td>5.0</td>\n",
       "      <td>4</td>\n",
       "      <td>1.0</td>\n",
       "      <td>NaN</td>\n",
       "      <td>118.0</td>\n",
       "      <td>NaN</td>\n",
       "      <td>2017-07-11 08:53:55.616987</td>\n",
       "      <td>38.908054</td>\n",
       "      <td>-77.003306</td>\n",
       "      <td>0101000020E61000005B785E2A364053C041800C1D3B74...</td>\n",
       "    </tr>\n",
       "  </tbody>\n",
       "</table>\n",
       "</div>"
      ],
      "text/plain": [
       "    room_id  survey_id   host_id    room_type  country        city  borough  \\\n",
       "0   3732219       1433    280636  Shared room      NaN  Washington      NaN   \n",
       "1  15087225       1433  90860645  Shared room      NaN  Washington      NaN   \n",
       "\n",
       "       neighborhood  reviews  overall_satisfaction  accommodates  bedrooms  \\\n",
       "0  Columbia Heights        0                   0.0             3       1.0   \n",
       "1         Brentwood        6                   5.0             4       1.0   \n",
       "\n",
       "   bathrooms  price  minstay               last_modified   latitude  \\\n",
       "0        NaN  129.0      NaN  2017-07-11 08:53:56.381540  38.931081   \n",
       "1        NaN  118.0      NaN  2017-07-11 08:53:55.616987  38.908054   \n",
       "\n",
       "   longitude                                           location  \n",
       "0 -77.030618  0101000020E6100000D02A33A5F54153C0A77686A92D77...  \n",
       "1 -77.003306  0101000020E61000005B785E2A364053C041800C1D3B74...  "
      ]
     },
     "execution_count": 2,
     "metadata": {},
     "output_type": "execute_result"
    }
   ],
   "source": [
    "# Step one, read in the CSV and get a sense of the dataframe - do you need to do any cleaning etc (KNN is not forgiving)\n",
    "import pandas as pd\n",
    "dc_listings = pd.read_csv(\"tomslee_airbnb_washington_1433_2017-07-11.csv\")  # did you know you could type\n",
    "                                  # a few letters of the name and hit TAB and Jupyter will fill it in?\n",
    "dc_listings.head(2)"
   ]
  },
  {
   "cell_type": "markdown",
   "metadata": {},
   "source": [
    "As a novice data-science practitioner, some questions arise rightaway :\n",
    "\n",
    "- What if I want to use the room_id as the index for each row? Is that possible? (Yes)\n",
    "- What if the price, which, in these two rows, looks very well behaved actually had commas and $ characters? Is it possible to automatically convert such \"almost truly numeric\" columns into truly numeric ones automatically? (A fact of data-science life that, to their credit, DataQuest does drill into you, is that work involves a lot of drudgery - data cleaning)\n",
    "- Is it possible to (again, automatically) reduce the dataframe to just the numeric columns that really lend themselves to some kind of predictive analysis?"
   ]
  },
  {
   "cell_type": "markdown",
   "metadata": {},
   "source": [
    "For a start, let's make sure that room_id does have as many unique values as the length of the df :"
   ]
  },
  {
   "cell_type": "code",
   "execution_count": 4,
   "metadata": {},
   "outputs": [
    {
     "name": "stdout",
     "output_type": "stream",
     "text": [
      "<class 'pandas.core.frame.DataFrame'>\n",
      "RangeIndex: 8237 entries, 0 to 8236\n",
      "Data columns (total 19 columns):\n",
      " #   Column                Non-Null Count  Dtype  \n",
      "---  ------                --------------  -----  \n",
      " 0   room_id               8237 non-null   int64  \n",
      " 1   survey_id             8237 non-null   int64  \n",
      " 2   host_id               8237 non-null   int64  \n",
      " 3   room_type             8237 non-null   object \n",
      " 4   country               0 non-null      float64\n",
      " 5   city                  8237 non-null   object \n",
      " 6   borough               0 non-null      float64\n",
      " 7   neighborhood          8237 non-null   object \n",
      " 8   reviews               8237 non-null   int64  \n",
      " 9   overall_satisfaction  8237 non-null   float64\n",
      " 10  accommodates          8237 non-null   int64  \n",
      " 11  bedrooms              8237 non-null   float64\n",
      " 12  bathrooms             0 non-null      float64\n",
      " 13  price                 8237 non-null   float64\n",
      " 14  minstay               0 non-null      float64\n",
      " 15  last_modified         8237 non-null   object \n",
      " 16  latitude              8237 non-null   float64\n",
      " 17  longitude             8237 non-null   float64\n",
      " 18  location              8237 non-null   object \n",
      "dtypes: float64(9), int64(5), object(5)\n",
      "memory usage: 1.2+ MB\n"
     ]
    }
   ],
   "source": [
    "dc_listings.info()"
   ]
  },
  {
   "cell_type": "markdown",
   "metadata": {},
   "source": [
    "Clearly, this dataset has been given some attention already - because the columns seem to be all-or-nothing. The real life - especially where one is using data that is available-but-not-advertised, is likely to require much more work.\n",
    "\n",
    "First off, can we set_index to room_id? How many unique room_id's are there?"
   ]
  },
  {
   "cell_type": "code",
   "execution_count": 5,
   "metadata": {},
   "outputs": [
    {
     "data": {
      "text/plain": [
       "8235"
      ]
     },
     "execution_count": 5,
     "metadata": {},
     "output_type": "execute_result"
    }
   ],
   "source": [
    "len( dc_listings['room_id'].unique() )"
   ]
  },
  {
   "cell_type": "markdown",
   "metadata": {},
   "source": [
    "Clearly, that's a bit depressing :) We were hoping for 8237. What happened?"
   ]
  },
  {
   "cell_type": "code",
   "execution_count": 9,
   "metadata": {
    "scrolled": true
   },
   "outputs": [
    {
     "data": {
      "text/plain": [
       "10862880    2\n",
       "11528631    2\n",
       "16123903    1\n",
       "15115590    1\n",
       "6171801     1\n",
       "Name: room_id, dtype: int64"
      ]
     },
     "execution_count": 9,
     "metadata": {},
     "output_type": "execute_result"
    }
   ],
   "source": [
    "dc_listings['room_id'].value_counts().head()"
   ]
  },
  {
   "cell_type": "code",
   "execution_count": 13,
   "metadata": {},
   "outputs": [
    {
     "data": {
      "text/html": [
       "<div>\n",
       "<style scoped>\n",
       "    .dataframe tbody tr th:only-of-type {\n",
       "        vertical-align: middle;\n",
       "    }\n",
       "\n",
       "    .dataframe tbody tr th {\n",
       "        vertical-align: top;\n",
       "    }\n",
       "\n",
       "    .dataframe thead th {\n",
       "        text-align: right;\n",
       "    }\n",
       "</style>\n",
       "<table border=\"1\" class=\"dataframe\">\n",
       "  <thead>\n",
       "    <tr style=\"text-align: right;\">\n",
       "      <th></th>\n",
       "      <th>room_id</th>\n",
       "      <th>survey_id</th>\n",
       "      <th>host_id</th>\n",
       "      <th>room_type</th>\n",
       "      <th>country</th>\n",
       "      <th>city</th>\n",
       "      <th>borough</th>\n",
       "      <th>neighborhood</th>\n",
       "      <th>reviews</th>\n",
       "      <th>overall_satisfaction</th>\n",
       "      <th>accommodates</th>\n",
       "      <th>bedrooms</th>\n",
       "      <th>bathrooms</th>\n",
       "      <th>price</th>\n",
       "      <th>minstay</th>\n",
       "      <th>last_modified</th>\n",
       "      <th>latitude</th>\n",
       "      <th>longitude</th>\n",
       "      <th>location</th>\n",
       "    </tr>\n",
       "  </thead>\n",
       "  <tbody>\n",
       "    <tr>\n",
       "      <th>7278</th>\n",
       "      <td>10862880</td>\n",
       "      <td>1433</td>\n",
       "      <td>11827226</td>\n",
       "      <td>Private room</td>\n",
       "      <td>NaN</td>\n",
       "      <td>Washington</td>\n",
       "      <td>NaN</td>\n",
       "      <td>Stadium-Armory</td>\n",
       "      <td>47</td>\n",
       "      <td>5.0</td>\n",
       "      <td>3</td>\n",
       "      <td>1.0</td>\n",
       "      <td>NaN</td>\n",
       "      <td>75.0</td>\n",
       "      <td>NaN</td>\n",
       "      <td>2017-07-11 01:37:36.439387</td>\n",
       "      <td>38.902561</td>\n",
       "      <td>-76.981948</td>\n",
       "      <td>0101000020E6100000D9976C3CD83E53C091D26C1E8773...</td>\n",
       "    </tr>\n",
       "    <tr>\n",
       "      <th>7279</th>\n",
       "      <td>10862880</td>\n",
       "      <td>1433</td>\n",
       "      <td>11827226</td>\n",
       "      <td>Private room</td>\n",
       "      <td>NaN</td>\n",
       "      <td>Washington</td>\n",
       "      <td>NaN</td>\n",
       "      <td>Capitol Hill</td>\n",
       "      <td>47</td>\n",
       "      <td>5.0</td>\n",
       "      <td>3</td>\n",
       "      <td>1.0</td>\n",
       "      <td>NaN</td>\n",
       "      <td>75.0</td>\n",
       "      <td>NaN</td>\n",
       "      <td>2017-07-11 01:37:36.439387</td>\n",
       "      <td>38.902561</td>\n",
       "      <td>-76.981948</td>\n",
       "      <td>0101000020E6100000D9976C3CD83E53C091D26C1E8773...</td>\n",
       "    </tr>\n",
       "  </tbody>\n",
       "</table>\n",
       "</div>"
      ],
      "text/plain": [
       "       room_id  survey_id   host_id     room_type  country        city  \\\n",
       "7278  10862880       1433  11827226  Private room      NaN  Washington   \n",
       "7279  10862880       1433  11827226  Private room      NaN  Washington   \n",
       "\n",
       "      borough    neighborhood  reviews  overall_satisfaction  accommodates  \\\n",
       "7278      NaN  Stadium-Armory       47                   5.0             3   \n",
       "7279      NaN    Capitol Hill       47                   5.0             3   \n",
       "\n",
       "      bedrooms  bathrooms  price  minstay               last_modified  \\\n",
       "7278       1.0        NaN   75.0      NaN  2017-07-11 01:37:36.439387   \n",
       "7279       1.0        NaN   75.0      NaN  2017-07-11 01:37:36.439387   \n",
       "\n",
       "       latitude  longitude                                           location  \n",
       "7278  38.902561 -76.981948  0101000020E6100000D9976C3CD83E53C091D26C1E8773...  \n",
       "7279  38.902561 -76.981948  0101000020E6100000D9976C3CD83E53C091D26C1E8773...  "
      ]
     },
     "execution_count": 13,
     "metadata": {},
     "output_type": "execute_result"
    }
   ],
   "source": [
    "dc_listings[dc_listings['room_id'] == 10862880]"
   ]
  },
  {
   "cell_type": "markdown",
   "metadata": {},
   "source": [
    "Okay, going by latitude/longitude, and other things also being equal, suggests that this was just an error in data prep. How does one drop duplicate rows (keep only one)? The other option, since we have plenty of data is to simply drop rows whose room_id is not unique. How?\n",
    "    As it turns out this is not an uncommon problem, so the developers of pandas have made `drop_duplicates` available with **keep** {‘_first_’, ‘_last_’, `False`}, default ‘_first_’. So..\n"
   ]
  },
  {
   "cell_type": "code",
   "execution_count": 16,
   "metadata": {},
   "outputs": [
    {
     "name": "stdout",
     "output_type": "stream",
     "text": [
      "<class 'pandas.core.frame.DataFrame'>\n",
      "Int64Index: 8235 entries, 0 to 8236\n",
      "Data columns (total 19 columns):\n",
      " #   Column                Non-Null Count  Dtype  \n",
      "---  ------                --------------  -----  \n",
      " 0   room_id               8235 non-null   int64  \n",
      " 1   survey_id             8235 non-null   int64  \n",
      " 2   host_id               8235 non-null   int64  \n",
      " 3   room_type             8235 non-null   object \n",
      " 4   country               0 non-null      float64\n",
      " 5   city                  8235 non-null   object \n",
      " 6   borough               0 non-null      float64\n",
      " 7   neighborhood          8235 non-null   object \n",
      " 8   reviews               8235 non-null   int64  \n",
      " 9   overall_satisfaction  8235 non-null   float64\n",
      " 10  accommodates          8235 non-null   int64  \n",
      " 11  bedrooms              8235 non-null   float64\n",
      " 12  bathrooms             0 non-null      float64\n",
      " 13  price                 8235 non-null   float64\n",
      " 14  minstay               0 non-null      float64\n",
      " 15  last_modified         8235 non-null   object \n",
      " 16  latitude              8235 non-null   float64\n",
      " 17  longitude             8235 non-null   float64\n",
      " 18  location              8235 non-null   object \n",
      "dtypes: float64(9), int64(5), object(5)\n",
      "memory usage: 1.3+ MB\n"
     ]
    }
   ],
   "source": [
    "dc_listings.drop_duplicates( subset='room_id', inplace=True )\n",
    "dc_listings.info()"
   ]
  },
  {
   "cell_type": "code",
   "execution_count": 18,
   "metadata": {},
   "outputs": [
    {
     "data": {
      "text/html": [
       "<div>\n",
       "<style scoped>\n",
       "    .dataframe tbody tr th:only-of-type {\n",
       "        vertical-align: middle;\n",
       "    }\n",
       "\n",
       "    .dataframe tbody tr th {\n",
       "        vertical-align: top;\n",
       "    }\n",
       "\n",
       "    .dataframe thead th {\n",
       "        text-align: right;\n",
       "    }\n",
       "</style>\n",
       "<table border=\"1\" class=\"dataframe\">\n",
       "  <thead>\n",
       "    <tr style=\"text-align: right;\">\n",
       "      <th></th>\n",
       "      <th>survey_id</th>\n",
       "      <th>host_id</th>\n",
       "      <th>room_type</th>\n",
       "      <th>country</th>\n",
       "      <th>city</th>\n",
       "      <th>borough</th>\n",
       "      <th>neighborhood</th>\n",
       "      <th>reviews</th>\n",
       "      <th>overall_satisfaction</th>\n",
       "      <th>accommodates</th>\n",
       "      <th>bedrooms</th>\n",
       "      <th>bathrooms</th>\n",
       "      <th>price</th>\n",
       "      <th>minstay</th>\n",
       "      <th>last_modified</th>\n",
       "      <th>latitude</th>\n",
       "      <th>longitude</th>\n",
       "      <th>location</th>\n",
       "    </tr>\n",
       "    <tr>\n",
       "      <th>room_id</th>\n",
       "      <th></th>\n",
       "      <th></th>\n",
       "      <th></th>\n",
       "      <th></th>\n",
       "      <th></th>\n",
       "      <th></th>\n",
       "      <th></th>\n",
       "      <th></th>\n",
       "      <th></th>\n",
       "      <th></th>\n",
       "      <th></th>\n",
       "      <th></th>\n",
       "      <th></th>\n",
       "      <th></th>\n",
       "      <th></th>\n",
       "      <th></th>\n",
       "      <th></th>\n",
       "      <th></th>\n",
       "    </tr>\n",
       "  </thead>\n",
       "  <tbody>\n",
       "    <tr>\n",
       "      <th>3732219</th>\n",
       "      <td>1433</td>\n",
       "      <td>280636</td>\n",
       "      <td>Shared room</td>\n",
       "      <td>NaN</td>\n",
       "      <td>Washington</td>\n",
       "      <td>NaN</td>\n",
       "      <td>Columbia Heights</td>\n",
       "      <td>0</td>\n",
       "      <td>0.0</td>\n",
       "      <td>3</td>\n",
       "      <td>1.0</td>\n",
       "      <td>NaN</td>\n",
       "      <td>129.0</td>\n",
       "      <td>NaN</td>\n",
       "      <td>2017-07-11 08:53:56.381540</td>\n",
       "      <td>38.931081</td>\n",
       "      <td>-77.030618</td>\n",
       "      <td>0101000020E6100000D02A33A5F54153C0A77686A92D77...</td>\n",
       "    </tr>\n",
       "    <tr>\n",
       "      <th>15087225</th>\n",
       "      <td>1433</td>\n",
       "      <td>90860645</td>\n",
       "      <td>Shared room</td>\n",
       "      <td>NaN</td>\n",
       "      <td>Washington</td>\n",
       "      <td>NaN</td>\n",
       "      <td>Brentwood</td>\n",
       "      <td>6</td>\n",
       "      <td>5.0</td>\n",
       "      <td>4</td>\n",
       "      <td>1.0</td>\n",
       "      <td>NaN</td>\n",
       "      <td>118.0</td>\n",
       "      <td>NaN</td>\n",
       "      <td>2017-07-11 08:53:55.616987</td>\n",
       "      <td>38.908054</td>\n",
       "      <td>-77.003306</td>\n",
       "      <td>0101000020E61000005B785E2A364053C041800C1D3B74...</td>\n",
       "    </tr>\n",
       "    <tr>\n",
       "      <th>19634784</th>\n",
       "      <td>1433</td>\n",
       "      <td>138150306</td>\n",
       "      <td>Shared room</td>\n",
       "      <td>NaN</td>\n",
       "      <td>Washington</td>\n",
       "      <td>NaN</td>\n",
       "      <td>South West</td>\n",
       "      <td>1</td>\n",
       "      <td>0.0</td>\n",
       "      <td>4</td>\n",
       "      <td>1.0</td>\n",
       "      <td>NaN</td>\n",
       "      <td>84.0</td>\n",
       "      <td>NaN</td>\n",
       "      <td>2017-07-11 08:53:53.434225</td>\n",
       "      <td>38.884121</td>\n",
       "      <td>-77.019518</td>\n",
       "      <td>0101000020E6100000BCEB6CC83F4153C0795A7EE02A71...</td>\n",
       "    </tr>\n",
       "    <tr>\n",
       "      <th>18547685</th>\n",
       "      <td>1433</td>\n",
       "      <td>26180779</td>\n",
       "      <td>Shared room</td>\n",
       "      <td>NaN</td>\n",
       "      <td>Washington</td>\n",
       "      <td>NaN</td>\n",
       "      <td>Shaw</td>\n",
       "      <td>11</td>\n",
       "      <td>5.0</td>\n",
       "      <td>2</td>\n",
       "      <td>1.0</td>\n",
       "      <td>NaN</td>\n",
       "      <td>74.0</td>\n",
       "      <td>NaN</td>\n",
       "      <td>2017-07-11 08:53:49.654605</td>\n",
       "      <td>38.910593</td>\n",
       "      <td>-77.023461</td>\n",
       "      <td>0101000020E6100000D0EE9062804153C0B77BB94F8E74...</td>\n",
       "    </tr>\n",
       "    <tr>\n",
       "      <th>13878076</th>\n",
       "      <td>1433</td>\n",
       "      <td>2387207</td>\n",
       "      <td>Shared room</td>\n",
       "      <td>NaN</td>\n",
       "      <td>Washington</td>\n",
       "      <td>NaN</td>\n",
       "      <td>Cleveland Park</td>\n",
       "      <td>2</td>\n",
       "      <td>0.0</td>\n",
       "      <td>2</td>\n",
       "      <td>1.0</td>\n",
       "      <td>NaN</td>\n",
       "      <td>50.0</td>\n",
       "      <td>NaN</td>\n",
       "      <td>2017-07-11 08:53:48.721169</td>\n",
       "      <td>38.935485</td>\n",
       "      <td>-77.059807</td>\n",
       "      <td>0101000020E61000009A44BDE0D34353C00473F4F8BD77...</td>\n",
       "    </tr>\n",
       "  </tbody>\n",
       "</table>\n",
       "</div>"
      ],
      "text/plain": [
       "          survey_id    host_id    room_type  country        city  borough  \\\n",
       "room_id                                                                     \n",
       "3732219        1433     280636  Shared room      NaN  Washington      NaN   \n",
       "15087225       1433   90860645  Shared room      NaN  Washington      NaN   \n",
       "19634784       1433  138150306  Shared room      NaN  Washington      NaN   \n",
       "18547685       1433   26180779  Shared room      NaN  Washington      NaN   \n",
       "13878076       1433    2387207  Shared room      NaN  Washington      NaN   \n",
       "\n",
       "              neighborhood  reviews  overall_satisfaction  accommodates  \\\n",
       "room_id                                                                   \n",
       "3732219   Columbia Heights        0                   0.0             3   \n",
       "15087225         Brentwood        6                   5.0             4   \n",
       "19634784        South West        1                   0.0             4   \n",
       "18547685              Shaw       11                   5.0             2   \n",
       "13878076    Cleveland Park        2                   0.0             2   \n",
       "\n",
       "          bedrooms  bathrooms  price  minstay               last_modified  \\\n",
       "room_id                                                                     \n",
       "3732219        1.0        NaN  129.0      NaN  2017-07-11 08:53:56.381540   \n",
       "15087225       1.0        NaN  118.0      NaN  2017-07-11 08:53:55.616987   \n",
       "19634784       1.0        NaN   84.0      NaN  2017-07-11 08:53:53.434225   \n",
       "18547685       1.0        NaN   74.0      NaN  2017-07-11 08:53:49.654605   \n",
       "13878076       1.0        NaN   50.0      NaN  2017-07-11 08:53:48.721169   \n",
       "\n",
       "           latitude  longitude  \\\n",
       "room_id                          \n",
       "3732219   38.931081 -77.030618   \n",
       "15087225  38.908054 -77.003306   \n",
       "19634784  38.884121 -77.019518   \n",
       "18547685  38.910593 -77.023461   \n",
       "13878076  38.935485 -77.059807   \n",
       "\n",
       "                                                   location  \n",
       "room_id                                                      \n",
       "3732219   0101000020E6100000D02A33A5F54153C0A77686A92D77...  \n",
       "15087225  0101000020E61000005B785E2A364053C041800C1D3B74...  \n",
       "19634784  0101000020E6100000BCEB6CC83F4153C0795A7EE02A71...  \n",
       "18547685  0101000020E6100000D0EE9062804153C0B77BB94F8E74...  \n",
       "13878076  0101000020E61000009A44BDE0D34353C00473F4F8BD77...  "
      ]
     },
     "execution_count": 18,
     "metadata": {},
     "output_type": "execute_result"
    }
   ],
   "source": [
    "dc_listings.set_index('room_id', inplace=True)\n",
    "dc_listings.head()"
   ]
  },
  {
   "cell_type": "markdown",
   "metadata": {},
   "source": [
    "Okay, the second question about wealthy hosts should be easy, right? :)"
   ]
  },
  {
   "cell_type": "code",
   "execution_count": 21,
   "metadata": {},
   "outputs": [
    {
     "data": {
      "text/plain": [
       "30283594    109\n",
       "25188        90\n",
       "46630199     49\n",
       "8160186      39\n",
       "8008783      38\n",
       "Name: host_id, dtype: int64"
      ]
     },
     "execution_count": 21,
     "metadata": {},
     "output_type": "execute_result"
    }
   ],
   "source": [
    "dc_listings['host_id'].value_counts().head()"
   ]
  },
  {
   "cell_type": "code",
   "execution_count": 33,
   "metadata": {},
   "outputs": [
    {
     "data": {
      "text/plain": [
       "1.0    67\n",
       "2.0    41\n",
       "0.0     1\n",
       "Name: bedrooms, dtype: int64"
      ]
     },
     "execution_count": 33,
     "metadata": {},
     "output_type": "execute_result"
    }
   ],
   "source": [
    "dc_listings[ dc_listings['host_id'] == 30283594 ]['bedrooms'].value_counts()"
   ]
  },
  {
   "cell_type": "code",
   "execution_count": 34,
   "metadata": {},
   "outputs": [
    {
     "data": {
      "text/plain": [
       "count    109.000000\n",
       "mean     190.596330\n",
       "std       41.477598\n",
       "min      129.000000\n",
       "25%      169.000000\n",
       "50%      181.000000\n",
       "75%      199.000000\n",
       "max      349.000000\n",
       "Name: price, dtype: float64"
      ]
     },
     "execution_count": 34,
     "metadata": {},
     "output_type": "execute_result"
    }
   ],
   "source": [
    "dc_listings[ dc_listings['host_id'] == 30283594 ]['price'].describe()"
   ]
  },
  {
   "cell_type": "markdown",
   "metadata": {},
   "source": [
    "Nice, so this rich (person or group?) has 109 places, one of them can't claim to even have a bedroom, but can still command $129 per night (assuming that is the minimum :) ). What does this tell you about DC? :)"
   ]
  },
  {
   "cell_type": "code",
   "execution_count": 36,
   "metadata": {},
   "outputs": [
    {
     "data": {
      "text/plain": [
       "0.0    102\n",
       "5.0      3\n",
       "4.5      2\n",
       "3.5      1\n",
       "4.0      1\n",
       "Name: overall_satisfaction, dtype: int64"
      ]
     },
     "execution_count": 36,
     "metadata": {},
     "output_type": "execute_result"
    }
   ],
   "source": [
    "dc_listings[ dc_listings['host_id'] == 30283594 ]['overall_satisfaction'].value_counts()"
   ]
  },
  {
   "cell_type": "markdown",
   "metadata": {},
   "source": [
    "Assuming that a 0 satisfaction score means \"not reviewed yet\" (else, the min would be 1, right?), this tells us that these people have a lot of new listings waiting to be rented."
   ]
  },
  {
   "cell_type": "code",
   "execution_count": 35,
   "metadata": {},
   "outputs": [
    {
     "data": {
      "text/plain": [
       "0.0    3473\n",
       "5.0    3135\n",
       "4.5    1422\n",
       "4.0     168\n",
       "3.5      29\n",
       "3.0       5\n",
       "2.5       2\n",
       "2.0       1\n",
       "Name: overall_satisfaction, dtype: int64"
      ]
     },
     "execution_count": 35,
     "metadata": {},
     "output_type": "execute_result"
    }
   ],
   "source": [
    "dc_listings['overall_satisfaction'].value_counts()"
   ]
  },
  {
   "cell_type": "markdown",
   "metadata": {},
   "source": [
    "The other thing I'm wondering about is what is the highest \"accommodates\" to \"bedrooms\" ratio? You'd think that two per room would be reasonable. But, given what we know about DC already.."
   ]
  },
  {
   "cell_type": "code",
   "execution_count": 37,
   "metadata": {},
   "outputs": [
    {
     "data": {
      "text/plain": [
       "count    8235.000000\n",
       "mean             inf\n",
       "std              NaN\n",
       "min         0.333333\n",
       "25%         2.000000\n",
       "50%         2.500000\n",
       "75%         4.000000\n",
       "max              inf\n",
       "dtype: float64"
      ]
     },
     "execution_count": 37,
     "metadata": {},
     "output_type": "execute_result"
    }
   ],
   "source": [
    "(dc_listings['accommodates']/dc_listings['bedrooms'] ).describe()"
   ]
  },
  {
   "cell_type": "markdown",
   "metadata": {},
   "source": [
    "Okay, a good lesson - know your data - we've seen already that #bedrooms can be 0, so, we obviously should only use the data that has #bedrooms > 0.."
   ]
  },
  {
   "cell_type": "code",
   "execution_count": 38,
   "metadata": {},
   "outputs": [
    {
     "data": {
      "text/plain": [
       "count    7441.000000\n",
       "mean        2.557789\n",
       "std         1.024299\n",
       "min         0.333333\n",
       "25%         2.000000\n",
       "50%         2.000000\n",
       "75%         3.000000\n",
       "max        16.000000\n",
       "dtype: float64"
      ]
     },
     "execution_count": 38,
     "metadata": {},
     "output_type": "execute_result"
    }
   ],
   "source": [
    "dc_lists_wbedrooms = dc_listings[ dc_listings['bedrooms'] > 0 ]\n",
    "(dc_lists_wbedrooms['accommodates']/dc_lists_wbedrooms['bedrooms'] ).describe()"
   ]
  },
  {
   "cell_type": "markdown",
   "metadata": {},
   "source": [
    "Okay, it would be nice to figure out the mystery of these outliers. Wouldn't it? :)"
   ]
  },
  {
   "cell_type": "code",
   "execution_count": 46,
   "metadata": {},
   "outputs": [
    {
     "data": {
      "text/plain": [
       "16.000000       3\n",
       "8.000000        7\n",
       "7.000000        1\n",
       "6.000000       84\n",
       "5.000000      123\n",
       "4.666667        2\n",
       "4.500000        5\n",
       "4.333333        2\n",
       "4.000000     1090\n",
       "3.750000        4\n",
       "dtype: int64"
      ]
     },
     "execution_count": 46,
     "metadata": {},
     "output_type": "execute_result"
    }
   ],
   "source": [
    "(dc_lists_wbedrooms['accommodates']/dc_lists_wbedrooms['bedrooms'] ).value_counts().sort_index(ascending=False).head(10)"
   ]
  },
  {
   "cell_type": "markdown",
   "metadata": {},
   "source": [
    "We'd like to know the bedrooms and accommodates values for these guys wouldn't we? Unfortunately, I don't think it can be done without adding a column.. I'm not that good.. :)"
   ]
  },
  {
   "cell_type": "code",
   "execution_count": 48,
   "metadata": {},
   "outputs": [
    {
     "name": "stderr",
     "output_type": "stream",
     "text": [
      "C:\\Users\\anant\\anaconda3\\lib\\site-packages\\pandas\\core\\indexing.py:671: SettingWithCopyWarning: \n",
      "A value is trying to be set on a copy of a slice from a DataFrame\n",
      "\n",
      "See the caveats in the documentation: https://pandas.pydata.org/pandas-docs/stable/user_guide/indexing.html#returning-a-view-versus-a-copy\n",
      "  self._setitem_with_indexer(indexer, value)\n"
     ]
    },
    {
     "data": {
      "text/html": [
       "<div>\n",
       "<style scoped>\n",
       "    .dataframe tbody tr th:only-of-type {\n",
       "        vertical-align: middle;\n",
       "    }\n",
       "\n",
       "    .dataframe tbody tr th {\n",
       "        vertical-align: top;\n",
       "    }\n",
       "\n",
       "    .dataframe thead th {\n",
       "        text-align: right;\n",
       "    }\n",
       "</style>\n",
       "<table border=\"1\" class=\"dataframe\">\n",
       "  <thead>\n",
       "    <tr style=\"text-align: right;\">\n",
       "      <th></th>\n",
       "      <th>survey_id</th>\n",
       "      <th>host_id</th>\n",
       "      <th>room_type</th>\n",
       "      <th>country</th>\n",
       "      <th>city</th>\n",
       "      <th>borough</th>\n",
       "      <th>neighborhood</th>\n",
       "      <th>reviews</th>\n",
       "      <th>overall_satisfaction</th>\n",
       "      <th>accommodates</th>\n",
       "      <th>bedrooms</th>\n",
       "      <th>bathrooms</th>\n",
       "      <th>price</th>\n",
       "      <th>minstay</th>\n",
       "      <th>last_modified</th>\n",
       "      <th>latitude</th>\n",
       "      <th>longitude</th>\n",
       "      <th>location</th>\n",
       "      <th>guests_per</th>\n",
       "    </tr>\n",
       "    <tr>\n",
       "      <th>room_id</th>\n",
       "      <th></th>\n",
       "      <th></th>\n",
       "      <th></th>\n",
       "      <th></th>\n",
       "      <th></th>\n",
       "      <th></th>\n",
       "      <th></th>\n",
       "      <th></th>\n",
       "      <th></th>\n",
       "      <th></th>\n",
       "      <th></th>\n",
       "      <th></th>\n",
       "      <th></th>\n",
       "      <th></th>\n",
       "      <th></th>\n",
       "      <th></th>\n",
       "      <th></th>\n",
       "      <th></th>\n",
       "      <th></th>\n",
       "    </tr>\n",
       "  </thead>\n",
       "  <tbody>\n",
       "    <tr>\n",
       "      <th>11574642</th>\n",
       "      <td>1433.0</td>\n",
       "      <td>27353.0</td>\n",
       "      <td>Shared room</td>\n",
       "      <td>NaN</td>\n",
       "      <td>Washington</td>\n",
       "      <td>NaN</td>\n",
       "      <td>Anacostia</td>\n",
       "      <td>25.0</td>\n",
       "      <td>4.0</td>\n",
       "      <td>16.0</td>\n",
       "      <td>1.0</td>\n",
       "      <td>NaN</td>\n",
       "      <td>125.0</td>\n",
       "      <td>NaN</td>\n",
       "      <td>2017-07-11 08:53:41.453278</td>\n",
       "      <td>38.876157</td>\n",
       "      <td>-76.963657</td>\n",
       "      <td>0101000020E6100000EFE3688EAC3D53C0AB949EE92570...</td>\n",
       "      <td>16.0</td>\n",
       "    </tr>\n",
       "    <tr>\n",
       "      <th>10416451</th>\n",
       "      <td>1433.0</td>\n",
       "      <td>27353.0</td>\n",
       "      <td>Shared room</td>\n",
       "      <td>NaN</td>\n",
       "      <td>Washington</td>\n",
       "      <td>NaN</td>\n",
       "      <td>Anacostia</td>\n",
       "      <td>29.0</td>\n",
       "      <td>4.0</td>\n",
       "      <td>16.0</td>\n",
       "      <td>1.0</td>\n",
       "      <td>NaN</td>\n",
       "      <td>15.0</td>\n",
       "      <td>NaN</td>\n",
       "      <td>2017-07-11 08:53:24.207717</td>\n",
       "      <td>38.876158</td>\n",
       "      <td>-76.962800</td>\n",
       "      <td>0101000020E6100000AF25E4839E3D53C07B1002F22570...</td>\n",
       "      <td>16.0</td>\n",
       "    </tr>\n",
       "    <tr>\n",
       "      <th>15984634</th>\n",
       "      <td>1433.0</td>\n",
       "      <td>27353.0</td>\n",
       "      <td>Shared room</td>\n",
       "      <td>NaN</td>\n",
       "      <td>Washington</td>\n",
       "      <td>NaN</td>\n",
       "      <td>Anacostia</td>\n",
       "      <td>23.0</td>\n",
       "      <td>4.0</td>\n",
       "      <td>16.0</td>\n",
       "      <td>1.0</td>\n",
       "      <td>NaN</td>\n",
       "      <td>11.0</td>\n",
       "      <td>NaN</td>\n",
       "      <td>2017-07-11 08:53:22.703522</td>\n",
       "      <td>38.876514</td>\n",
       "      <td>-76.964267</td>\n",
       "      <td>0101000020E61000002C67EF8CB63D53C03A3E5A9C3170...</td>\n",
       "      <td>16.0</td>\n",
       "    </tr>\n",
       "  </tbody>\n",
       "</table>\n",
       "</div>"
      ],
      "text/plain": [
       "          survey_id  host_id    room_type  country        city  borough  \\\n",
       "room_id                                                                   \n",
       "11574642     1433.0  27353.0  Shared room      NaN  Washington      NaN   \n",
       "10416451     1433.0  27353.0  Shared room      NaN  Washington      NaN   \n",
       "15984634     1433.0  27353.0  Shared room      NaN  Washington      NaN   \n",
       "\n",
       "         neighborhood  reviews  overall_satisfaction  accommodates  bedrooms  \\\n",
       "room_id                                                                        \n",
       "11574642    Anacostia     25.0                   4.0          16.0       1.0   \n",
       "10416451    Anacostia     29.0                   4.0          16.0       1.0   \n",
       "15984634    Anacostia     23.0                   4.0          16.0       1.0   \n",
       "\n",
       "          bathrooms  price  minstay               last_modified   latitude  \\\n",
       "room_id                                                                      \n",
       "11574642        NaN  125.0      NaN  2017-07-11 08:53:41.453278  38.876157   \n",
       "10416451        NaN   15.0      NaN  2017-07-11 08:53:24.207717  38.876158   \n",
       "15984634        NaN   11.0      NaN  2017-07-11 08:53:22.703522  38.876514   \n",
       "\n",
       "          longitude                                           location  \\\n",
       "room_id                                                                  \n",
       "11574642 -76.963657  0101000020E6100000EFE3688EAC3D53C0AB949EE92570...   \n",
       "10416451 -76.962800  0101000020E6100000AF25E4839E3D53C07B1002F22570...   \n",
       "15984634 -76.964267  0101000020E61000002C67EF8CB63D53C03A3E5A9C3170...   \n",
       "\n",
       "          guests_per  \n",
       "room_id               \n",
       "11574642        16.0  \n",
       "10416451        16.0  \n",
       "15984634        16.0  "
      ]
     },
     "execution_count": 48,
     "metadata": {},
     "output_type": "execute_result"
    }
   ],
   "source": [
    "dc_lists_wbedrooms.loc[\"guests_per\"] = dc_lists_wbedrooms['accommodates']/dc_lists_wbedrooms['bedrooms']\n",
    "dc_lists_wbedrooms[ dc_lists_wbedrooms['guests_per'] == 16]"
   ]
  },
  {
   "cell_type": "markdown",
   "metadata": {},
   "source": [
    "What does such a place look like? Here's an example (note, dataset is from 2017, but this picture is from today (Nov,2020) :\n",
    "\n",
    "<img src=\"shared_room_DC16.PNG\"/>\n"
   ]
  },
  {
   "cell_type": "markdown",
   "metadata": {},
   "source": [
    "Ok, now that we're done playing :), let's see about price prediction. As you might expect, the right way is to use modules that already exist - SciKit-Learn to be precise..\n",
    "\n",
    "Since we only have `reviews`, `overall_satisfaction`, `accommodates` and `bedrooms` to work with, we will loop over inclusions of all of these and then sweep the number of nearest neighbours.\n",
    "\n",
    "The model we end up with is finally judged on the Mean Squared Error."
   ]
  },
  {
   "cell_type": "code",
   "execution_count": 49,
   "metadata": {},
   "outputs": [],
   "source": [
    "from sklearn.neighbors import KNeighborsRegressor\n",
    "from sklearn.metrics import mean_squared_error"
   ]
  },
  {
   "cell_type": "code",
   "execution_count": 54,
   "metadata": {},
   "outputs": [],
   "source": [
    "N_split = int( len( dc_listings )*0.8 )   # 80% for training, rest for test\n",
    "train_df = dc_listings[0:N_split]\n",
    "test_df = dc_listings[N_split:]"
   ]
  },
  {
   "cell_type": "code",
   "execution_count": 62,
   "metadata": {},
   "outputs": [
    {
     "name": "stdout",
     "output_type": "stream",
     "text": [
      "With ['accommodates', 'reviews'] for features, optimal N is 19 for MSE of 5002.192353426948\n",
      "With ['accommodates', 'reviews', 'overall_satisfaction'] for features, optimal N is 20 for MSE of 4813.2695901639345\n",
      "With ['accommodates', 'reviews', 'overall_satisfaction', 'bedrooms'] for features, optimal N is 6 for MSE of 5575.447868177831\n"
     ]
    }
   ],
   "source": [
    "features_to_try = ['reviews', 'overall_satisfaction', 'bedrooms']  # assuming that accommodates is not negotiable.. \n",
    "hyper_params = list( range( 5,25) )   # try 2,3...13 for number of nearest neighbours\n",
    "features = ['accommodates']\n",
    "mse = None\n",
    "for feature in features_to_try :\n",
    "    features.append( feature )\n",
    "    for param in hyper_params :\n",
    "        knn = KNeighborsRegressor( n_neighbors=param, algorithm='brute')\n",
    "        knn.fit( train_df[ features], train_df['price'])\n",
    "        predictions = knn.predict( test_df[features])\n",
    "        new_mse = mean_squared_error( test_df['price'], predictions )\n",
    "#         print( \"Info : with {} MSE = {}\".format( param, new_mse))\n",
    "        if mse :\n",
    "            if new_mse  < mse :\n",
    "                mse = new_mse\n",
    "                opt_N = param\n",
    "        else :\n",
    "            mse = new_mse   # how to DRY here?\n",
    "            opt_N = param\n",
    "    print( \"With {} for features, optimal N is {} for MSE of {}\".format( features, opt_N, mse))\n",
    "    mse = None\n"
   ]
  },
  {
   "cell_type": "markdown",
   "metadata": {},
   "source": [
    "Let's just see what we get with just accommodates.."
   ]
  },
  {
   "cell_type": "code",
   "execution_count": 63,
   "metadata": {},
   "outputs": [
    {
     "name": "stdout",
     "output_type": "stream",
     "text": [
      "With ['accommodates'] for features, optimal N is 14 for MSE of 6462.838797814206\n"
     ]
    }
   ],
   "source": [
    "hyper_params = list( range( 5,25) )   # try 2,3...13 for number of nearest neighbours\n",
    "features = ['accommodates']\n",
    "mse = None\n",
    "for param in hyper_params :\n",
    "    knn = KNeighborsRegressor( n_neighbors=param, algorithm='brute')\n",
    "    knn.fit( train_df[ features], train_df['price'])\n",
    "    predictions = knn.predict( test_df[features])\n",
    "    new_mse = mean_squared_error( test_df['price'], predictions )\n",
    "    if mse :\n",
    "        if new_mse  < mse :\n",
    "            mse = new_mse\n",
    "            opt_N = param\n",
    "    else :\n",
    "        mse = new_mse   # how to DRY here?\n",
    "        opt_N = param\n",
    "print( \"With {} for features, optimal N is {} for MSE of {}\".format( features, opt_N, mse))\n"
   ]
  },
  {
   "cell_type": "markdown",
   "metadata": {},
   "source": [
    "Good news then :) We do get better with reviews included (number of reviews. Makes sense doesn't it - the more people that have stayed at a listing, the more value it has)\n",
    "\n",
    "Here's a good data-science question : How much do bad reviews hurt? That is, if you exclude overall_satisfaction and then look at nearest neighbours, how much below the predicted value are you? And, how is that correlated with the overall_satisfaction?\n",
    "\n",
    "Unfortunately, given that our error is so high (on the order of $70 std.deviation) we might not get anywhere.. So what can one do? Actually, given that we only have an aggregate number for satisfaction, we can't answer this one. We would need all th"
   ]
  },
  {
   "cell_type": "markdown",
   "metadata": {},
   "source": [
    "## Conclusion\n",
    "\n",
    "Use **20** nearest neighbours and `accommodates`, `reviews`, and `overall_satisfaction` as the features."
   ]
  }
 ],
 "metadata": {
  "kernelspec": {
   "display_name": "Python 3",
   "language": "python",
   "name": "python3"
  },
  "language_info": {
   "codemirror_mode": {
    "name": "ipython",
    "version": 3
   },
   "file_extension": ".py",
   "mimetype": "text/x-python",
   "name": "python",
   "nbconvert_exporter": "python",
   "pygments_lexer": "ipython3",
   "version": "3.8.3"
  }
 },
 "nbformat": 4,
 "nbformat_minor": 4
}
