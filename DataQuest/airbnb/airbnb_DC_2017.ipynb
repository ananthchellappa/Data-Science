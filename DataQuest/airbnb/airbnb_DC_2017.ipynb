{
 "cells": [
  {
   "cell_type": "markdown",
   "metadata": {},
   "source": [
    "# Learning from AirBnb Data\n",
    "\n",
    "Starting with Tom Lee's CSV from : https://s3.amazonaws.com/tomslee-airbnb-data-2/washington.zip, Let's see if we can answer a few questions :\n",
    "\n",
    "1. Are the listing ID's unique - that is, the dataset has one entry (row) per room ID?\n",
    "2. In this dataset, what is the maximum number of listings that any host has?\n",
    "3. Can we predict the price given some features of the listing (an exercise in K-Nearest-Neighbors supervised machine learning and hyperparameters (N) tuning (optimization) and feature selection - find out which ones really help you build a good model)?\n",
    "\n",
    "The learning that enabled this came from DataQuest's online course.."
   ]
  },
  {
   "cell_type": "code",
   "execution_count": 2,
   "metadata": {},
   "outputs": [
    {
     "data": {
      "text/html": [
       "<div>\n",
       "<style scoped>\n",
       "    .dataframe tbody tr th:only-of-type {\n",
       "        vertical-align: middle;\n",
       "    }\n",
       "\n",
       "    .dataframe tbody tr th {\n",
       "        vertical-align: top;\n",
       "    }\n",
       "\n",
       "    .dataframe thead th {\n",
       "        text-align: right;\n",
       "    }\n",
       "</style>\n",
       "<table border=\"1\" class=\"dataframe\">\n",
       "  <thead>\n",
       "    <tr style=\"text-align: right;\">\n",
       "      <th></th>\n",
       "      <th>room_id</th>\n",
       "      <th>survey_id</th>\n",
       "      <th>host_id</th>\n",
       "      <th>room_type</th>\n",
       "      <th>country</th>\n",
       "      <th>city</th>\n",
       "      <th>borough</th>\n",
       "      <th>neighborhood</th>\n",
       "      <th>reviews</th>\n",
       "      <th>overall_satisfaction</th>\n",
       "      <th>accommodates</th>\n",
       "      <th>bedrooms</th>\n",
       "      <th>bathrooms</th>\n",
       "      <th>price</th>\n",
       "      <th>minstay</th>\n",
       "      <th>last_modified</th>\n",
       "      <th>latitude</th>\n",
       "      <th>longitude</th>\n",
       "      <th>location</th>\n",
       "    </tr>\n",
       "  </thead>\n",
       "  <tbody>\n",
       "    <tr>\n",
       "      <th>0</th>\n",
       "      <td>3732219</td>\n",
       "      <td>1433</td>\n",
       "      <td>280636</td>\n",
       "      <td>Shared room</td>\n",
       "      <td>NaN</td>\n",
       "      <td>Washington</td>\n",
       "      <td>NaN</td>\n",
       "      <td>Columbia Heights</td>\n",
       "      <td>0</td>\n",
       "      <td>0.0</td>\n",
       "      <td>3</td>\n",
       "      <td>1.0</td>\n",
       "      <td>NaN</td>\n",
       "      <td>129.0</td>\n",
       "      <td>NaN</td>\n",
       "      <td>2017-07-11 08:53:56.381540</td>\n",
       "      <td>38.931081</td>\n",
       "      <td>-77.030618</td>\n",
       "      <td>0101000020E6100000D02A33A5F54153C0A77686A92D77...</td>\n",
       "    </tr>\n",
       "    <tr>\n",
       "      <th>1</th>\n",
       "      <td>15087225</td>\n",
       "      <td>1433</td>\n",
       "      <td>90860645</td>\n",
       "      <td>Shared room</td>\n",
       "      <td>NaN</td>\n",
       "      <td>Washington</td>\n",
       "      <td>NaN</td>\n",
       "      <td>Brentwood</td>\n",
       "      <td>6</td>\n",
       "      <td>5.0</td>\n",
       "      <td>4</td>\n",
       "      <td>1.0</td>\n",
       "      <td>NaN</td>\n",
       "      <td>118.0</td>\n",
       "      <td>NaN</td>\n",
       "      <td>2017-07-11 08:53:55.616987</td>\n",
       "      <td>38.908054</td>\n",
       "      <td>-77.003306</td>\n",
       "      <td>0101000020E61000005B785E2A364053C041800C1D3B74...</td>\n",
       "    </tr>\n",
       "  </tbody>\n",
       "</table>\n",
       "</div>"
      ],
      "text/plain": [
       "    room_id  survey_id   host_id    room_type  country        city  borough  \\\n",
       "0   3732219       1433    280636  Shared room      NaN  Washington      NaN   \n",
       "1  15087225       1433  90860645  Shared room      NaN  Washington      NaN   \n",
       "\n",
       "       neighborhood  reviews  overall_satisfaction  accommodates  bedrooms  \\\n",
       "0  Columbia Heights        0                   0.0             3       1.0   \n",
       "1         Brentwood        6                   5.0             4       1.0   \n",
       "\n",
       "   bathrooms  price  minstay               last_modified   latitude  \\\n",
       "0        NaN  129.0      NaN  2017-07-11 08:53:56.381540  38.931081   \n",
       "1        NaN  118.0      NaN  2017-07-11 08:53:55.616987  38.908054   \n",
       "\n",
       "   longitude                                           location  \n",
       "0 -77.030618  0101000020E6100000D02A33A5F54153C0A77686A92D77...  \n",
       "1 -77.003306  0101000020E61000005B785E2A364053C041800C1D3B74...  "
      ]
     },
     "execution_count": 2,
     "metadata": {},
     "output_type": "execute_result"
    }
   ],
   "source": [
    "# Step one, read in the CSV and get a sense of the dataframe - do you need to do any cleaning etc (KNN is not forgiving)\n",
    "import pandas as pd\n",
    "dc_listings = pd.read_csv(\"tomslee_airbnb_washington_1433_2017-07-11.csv\")  # did you know you could type\n",
    "                                  # a few letters of the name and hit TAB and Jupyter will fill it in?\n",
    "dc_listings.head(2)"
   ]
  },
  {
   "cell_type": "markdown",
   "metadata": {},
   "source": [
    "As a novice data-science practitioner, some questions arise rightaway :\n",
    "\n",
    "- What if I want to use the room_id as the index for each row? Is that possible? (Yes)\n",
    "- What if the price, which, in these two rows, looks very well behaved actually had commas and $ characters? Is it possible to automatically convert such \"almost truly numeric\" columns into truly numeric ones automatically? (A fact of data-science life that, to their credit, DataQuest does drill into you, is that work involves a lot of drudgery - data cleaning)\n",
    "- Is it possible to (again, automatically) reduce the dataframe to just the numeric columns that really lend themselves to some kind of predictive analysis?"
   ]
  },
  {
   "cell_type": "markdown",
   "metadata": {},
   "source": [
    "For a start, let's make sure that room_id does have as many unique values as the length of the df :"
   ]
  },
  {
   "cell_type": "code",
   "execution_count": 4,
   "metadata": {},
   "outputs": [
    {
     "name": "stdout",
     "output_type": "stream",
     "text": [
      "<class 'pandas.core.frame.DataFrame'>\n",
      "RangeIndex: 8237 entries, 0 to 8236\n",
      "Data columns (total 19 columns):\n",
      " #   Column                Non-Null Count  Dtype  \n",
      "---  ------                --------------  -----  \n",
      " 0   room_id               8237 non-null   int64  \n",
      " 1   survey_id             8237 non-null   int64  \n",
      " 2   host_id               8237 non-null   int64  \n",
      " 3   room_type             8237 non-null   object \n",
      " 4   country               0 non-null      float64\n",
      " 5   city                  8237 non-null   object \n",
      " 6   borough               0 non-null      float64\n",
      " 7   neighborhood          8237 non-null   object \n",
      " 8   reviews               8237 non-null   int64  \n",
      " 9   overall_satisfaction  8237 non-null   float64\n",
      " 10  accommodates          8237 non-null   int64  \n",
      " 11  bedrooms              8237 non-null   float64\n",
      " 12  bathrooms             0 non-null      float64\n",
      " 13  price                 8237 non-null   float64\n",
      " 14  minstay               0 non-null      float64\n",
      " 15  last_modified         8237 non-null   object \n",
      " 16  latitude              8237 non-null   float64\n",
      " 17  longitude             8237 non-null   float64\n",
      " 18  location              8237 non-null   object \n",
      "dtypes: float64(9), int64(5), object(5)\n",
      "memory usage: 1.2+ MB\n"
     ]
    }
   ],
   "source": [
    "dc_listings.info()"
   ]
  },
  {
   "cell_type": "markdown",
   "metadata": {},
   "source": [
    "Clearly, this dataset has been given some attention already - because the columns seem to be all-or-nothing. The real life - especially where one is using data that is available-but-not-advertised, is likely to require much more work.\n",
    "\n",
    "First off, can we set_index to room_id? How many unique room_id's are there?"
   ]
  },
  {
   "cell_type": "code",
   "execution_count": 5,
   "metadata": {},
   "outputs": [
    {
     "data": {
      "text/plain": [
       "8235"
      ]
     },
     "execution_count": 5,
     "metadata": {},
     "output_type": "execute_result"
    }
   ],
   "source": [
    "len( dc_listings['room_id'].unique() )"
   ]
  },
  {
   "cell_type": "markdown",
   "metadata": {},
   "source": [
    "Clearly, that's a bit depressing :) We were hoping for 8237. What happened?"
   ]
  }
 ],
 "metadata": {
  "kernelspec": {
   "display_name": "Python 3",
   "language": "python",
   "name": "python3"
  },
  "language_info": {
   "codemirror_mode": {
    "name": "ipython",
    "version": 3
   },
   "file_extension": ".py",
   "mimetype": "text/x-python",
   "name": "python",
   "nbconvert_exporter": "python",
   "pygments_lexer": "ipython3",
   "version": "3.8.3"
  }
 },
 "nbformat": 4,
 "nbformat_minor": 4
}
