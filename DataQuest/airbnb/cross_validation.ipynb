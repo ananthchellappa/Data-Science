{
 "cells": [
  {
   "cell_type": "markdown",
   "metadata": {},
   "source": [
    "# Holdout Validation\n",
    "\n",
    "You're probably used to 80-20 train/test data splitting. But, here, we're going to do 50-50 train-test one way and then train-test using the complementary data.. So we'll end up with two models and two error numbers which we'll then average. \n",
    "\n",
    "The ultimate goal DQ hasn't told me yet :)"
   ]
  },
  {
   "cell_type": "code",
   "execution_count": 21,
   "metadata": {},
   "outputs": [],
   "source": [
    "import pandas as pd\n",
    "from pandas.api.types import is_numeric_dtype\n",
    "import numpy as np"
   ]
  },
  {
   "cell_type": "code",
   "execution_count": 4,
   "metadata": {},
   "outputs": [
    {
     "data": {
      "text/html": [
       "<div>\n",
       "<style scoped>\n",
       "    .dataframe tbody tr th:only-of-type {\n",
       "        vertical-align: middle;\n",
       "    }\n",
       "\n",
       "    .dataframe tbody tr th {\n",
       "        vertical-align: top;\n",
       "    }\n",
       "\n",
       "    .dataframe thead th {\n",
       "        text-align: right;\n",
       "    }\n",
       "</style>\n",
       "<table border=\"1\" class=\"dataframe\">\n",
       "  <thead>\n",
       "    <tr style=\"text-align: right;\">\n",
       "      <th></th>\n",
       "      <th>room_id</th>\n",
       "      <th>survey_id</th>\n",
       "      <th>host_id</th>\n",
       "      <th>room_type</th>\n",
       "      <th>country</th>\n",
       "      <th>city</th>\n",
       "      <th>borough</th>\n",
       "      <th>neighborhood</th>\n",
       "      <th>reviews</th>\n",
       "      <th>overall_satisfaction</th>\n",
       "      <th>accommodates</th>\n",
       "      <th>bedrooms</th>\n",
       "      <th>bathrooms</th>\n",
       "      <th>price</th>\n",
       "      <th>minstay</th>\n",
       "      <th>last_modified</th>\n",
       "      <th>latitude</th>\n",
       "      <th>longitude</th>\n",
       "      <th>location</th>\n",
       "    </tr>\n",
       "  </thead>\n",
       "  <tbody>\n",
       "    <tr>\n",
       "      <th>0</th>\n",
       "      <td>3732219</td>\n",
       "      <td>1433</td>\n",
       "      <td>280636</td>\n",
       "      <td>Shared room</td>\n",
       "      <td>NaN</td>\n",
       "      <td>Washington</td>\n",
       "      <td>NaN</td>\n",
       "      <td>Columbia Heights</td>\n",
       "      <td>0</td>\n",
       "      <td>0.0</td>\n",
       "      <td>3</td>\n",
       "      <td>1.0</td>\n",
       "      <td>NaN</td>\n",
       "      <td>129.0</td>\n",
       "      <td>NaN</td>\n",
       "      <td>2017-07-11 08:53:56.381540</td>\n",
       "      <td>38.931081</td>\n",
       "      <td>-77.030618</td>\n",
       "      <td>0101000020E6100000D02A33A5F54153C0A77686A92D77...</td>\n",
       "    </tr>\n",
       "    <tr>\n",
       "      <th>1</th>\n",
       "      <td>15087225</td>\n",
       "      <td>1433</td>\n",
       "      <td>90860645</td>\n",
       "      <td>Shared room</td>\n",
       "      <td>NaN</td>\n",
       "      <td>Washington</td>\n",
       "      <td>NaN</td>\n",
       "      <td>Brentwood</td>\n",
       "      <td>6</td>\n",
       "      <td>5.0</td>\n",
       "      <td>4</td>\n",
       "      <td>1.0</td>\n",
       "      <td>NaN</td>\n",
       "      <td>118.0</td>\n",
       "      <td>NaN</td>\n",
       "      <td>2017-07-11 08:53:55.616987</td>\n",
       "      <td>38.908054</td>\n",
       "      <td>-77.003306</td>\n",
       "      <td>0101000020E61000005B785E2A364053C041800C1D3B74...</td>\n",
       "    </tr>\n",
       "    <tr>\n",
       "      <th>2</th>\n",
       "      <td>19634784</td>\n",
       "      <td>1433</td>\n",
       "      <td>138150306</td>\n",
       "      <td>Shared room</td>\n",
       "      <td>NaN</td>\n",
       "      <td>Washington</td>\n",
       "      <td>NaN</td>\n",
       "      <td>South West</td>\n",
       "      <td>1</td>\n",
       "      <td>0.0</td>\n",
       "      <td>4</td>\n",
       "      <td>1.0</td>\n",
       "      <td>NaN</td>\n",
       "      <td>84.0</td>\n",
       "      <td>NaN</td>\n",
       "      <td>2017-07-11 08:53:53.434225</td>\n",
       "      <td>38.884121</td>\n",
       "      <td>-77.019518</td>\n",
       "      <td>0101000020E6100000BCEB6CC83F4153C0795A7EE02A71...</td>\n",
       "    </tr>\n",
       "    <tr>\n",
       "      <th>3</th>\n",
       "      <td>18547685</td>\n",
       "      <td>1433</td>\n",
       "      <td>26180779</td>\n",
       "      <td>Shared room</td>\n",
       "      <td>NaN</td>\n",
       "      <td>Washington</td>\n",
       "      <td>NaN</td>\n",
       "      <td>Shaw</td>\n",
       "      <td>11</td>\n",
       "      <td>5.0</td>\n",
       "      <td>2</td>\n",
       "      <td>1.0</td>\n",
       "      <td>NaN</td>\n",
       "      <td>74.0</td>\n",
       "      <td>NaN</td>\n",
       "      <td>2017-07-11 08:53:49.654605</td>\n",
       "      <td>38.910593</td>\n",
       "      <td>-77.023461</td>\n",
       "      <td>0101000020E6100000D0EE9062804153C0B77BB94F8E74...</td>\n",
       "    </tr>\n",
       "    <tr>\n",
       "      <th>4</th>\n",
       "      <td>13878076</td>\n",
       "      <td>1433</td>\n",
       "      <td>2387207</td>\n",
       "      <td>Shared room</td>\n",
       "      <td>NaN</td>\n",
       "      <td>Washington</td>\n",
       "      <td>NaN</td>\n",
       "      <td>Cleveland Park</td>\n",
       "      <td>2</td>\n",
       "      <td>0.0</td>\n",
       "      <td>2</td>\n",
       "      <td>1.0</td>\n",
       "      <td>NaN</td>\n",
       "      <td>50.0</td>\n",
       "      <td>NaN</td>\n",
       "      <td>2017-07-11 08:53:48.721169</td>\n",
       "      <td>38.935485</td>\n",
       "      <td>-77.059807</td>\n",
       "      <td>0101000020E61000009A44BDE0D34353C00473F4F8BD77...</td>\n",
       "    </tr>\n",
       "  </tbody>\n",
       "</table>\n",
       "</div>"
      ],
      "text/plain": [
       "    room_id  survey_id    host_id    room_type  country        city  borough  \\\n",
       "0   3732219       1433     280636  Shared room      NaN  Washington      NaN   \n",
       "1  15087225       1433   90860645  Shared room      NaN  Washington      NaN   \n",
       "2  19634784       1433  138150306  Shared room      NaN  Washington      NaN   \n",
       "3  18547685       1433   26180779  Shared room      NaN  Washington      NaN   \n",
       "4  13878076       1433    2387207  Shared room      NaN  Washington      NaN   \n",
       "\n",
       "       neighborhood  reviews  overall_satisfaction  accommodates  bedrooms  \\\n",
       "0  Columbia Heights        0                   0.0             3       1.0   \n",
       "1         Brentwood        6                   5.0             4       1.0   \n",
       "2        South West        1                   0.0             4       1.0   \n",
       "3              Shaw       11                   5.0             2       1.0   \n",
       "4    Cleveland Park        2                   0.0             2       1.0   \n",
       "\n",
       "   bathrooms  price  minstay               last_modified   latitude  \\\n",
       "0        NaN  129.0      NaN  2017-07-11 08:53:56.381540  38.931081   \n",
       "1        NaN  118.0      NaN  2017-07-11 08:53:55.616987  38.908054   \n",
       "2        NaN   84.0      NaN  2017-07-11 08:53:53.434225  38.884121   \n",
       "3        NaN   74.0      NaN  2017-07-11 08:53:49.654605  38.910593   \n",
       "4        NaN   50.0      NaN  2017-07-11 08:53:48.721169  38.935485   \n",
       "\n",
       "   longitude                                           location  \n",
       "0 -77.030618  0101000020E6100000D02A33A5F54153C0A77686A92D77...  \n",
       "1 -77.003306  0101000020E61000005B785E2A364053C041800C1D3B74...  \n",
       "2 -77.019518  0101000020E6100000BCEB6CC83F4153C0795A7EE02A71...  \n",
       "3 -77.023461  0101000020E6100000D0EE9062804153C0B77BB94F8E74...  \n",
       "4 -77.059807  0101000020E61000009A44BDE0D34353C00473F4F8BD77...  "
      ]
     },
     "execution_count": 4,
     "metadata": {},
     "output_type": "execute_result"
    }
   ],
   "source": [
    "dc_listings = pd.read_csv(\"tomslee_airbnb_washington_1433_2017-07-11.csv\")\n",
    "dc_listings.head()"
   ]
  },
  {
   "cell_type": "markdown",
   "metadata": {},
   "source": [
    "Putting this one here (though it's not necessary) just to show one way of cleaning a should-be-numeric column :"
   ]
  },
  {
   "cell_type": "code",
   "execution_count": 17,
   "metadata": {},
   "outputs": [
    {
     "data": {
      "text/plain": [
       "False"
      ]
     },
     "execution_count": 17,
     "metadata": {},
     "output_type": "execute_result"
    }
   ],
   "source": [
    "is_numeric_dtype( dc_listings['city'].dtype )"
   ]
  },
  {
   "cell_type": "code",
   "execution_count": 19,
   "metadata": {},
   "outputs": [],
   "source": [
    "if not is_numeric_dtype( dc_listings['price'] ) :\n",
    "    dc_listings['price'] = dc_listings['price'].str.replace('[ $,]','')  # DQ doesn't know yet that str.replace takes a regex\n",
    "    try :\n",
    "        dc_listings['price'] = dc_listings['price'].astype('float')\n",
    "    except ValueError as err :\n",
    "        print(\"Price needs pre-processing to remove bad chars : {}\".format(err) )"
   ]
  },
  {
   "cell_type": "markdown",
   "metadata": {},
   "source": [
    "Remove any bias in the data by randomizing (shuffling)"
   ]
  },
  {
   "cell_type": "code",
   "execution_count": 23,
   "metadata": {},
   "outputs": [],
   "source": [
    "dc_listings = dc_listings.loc[ np.random.permutation( len(dc_listings) ) ]"
   ]
  },
  {
   "cell_type": "code",
   "execution_count": 24,
   "metadata": {},
   "outputs": [],
   "source": [
    "N_split = int( len( dc_listings )/2 )\n",
    "train_df = dc_listings[ : N_split ]\n",
    "test_df  = dc_listings[ N_split : ]"
   ]
  },
  {
   "cell_type": "code",
   "execution_count": 26,
   "metadata": {},
   "outputs": [],
   "source": [
    "from sklearn.neighbors import KNeighborsRegressor\n",
    "from sklearn.metrics import mean_squared_error"
   ]
  },
  {
   "cell_type": "code",
   "execution_count": 30,
   "metadata": {},
   "outputs": [
    {
     "data": {
      "text/plain": [
       "382.00638342493085"
      ]
     },
     "execution_count": 30,
     "metadata": {},
     "output_type": "execute_result"
    }
   ],
   "source": [
    "knn = KNeighborsRegressor( )\n",
    "knn.fit( train_df[[\"accommodates\"]], train_df['price'])\n",
    "predictions = knn.predict( test_df[['accommodates']])\n",
    "rmse1 = mean_squared_error( test_df['price'], predictions )**0.5\n",
    "knn.fit( test_df[['accommodates']] , test_df['price'])\n",
    "predictions = knn.predict( train_df[['accommodates']])\n",
    "rmse2 = mean_squared_error( train_df['price'], predictions )**0.5\n",
    "avg_rmse = np.mean([rmse1, rmse2])\n",
    "avg_rmse"
   ]
  },
  {
   "cell_type": "markdown",
   "metadata": {},
   "source": [
    "### K-Fold Cross Validation\n",
    "\n",
    "Instead of just 50-50 - which goes against the 80-20 rule, what if we (still no clue why) do the 80-20 with 20% moving aound in 5 ways (quintiles - you get the idea) and take the average of the resulting five RMSEs?\n",
    "\n",
    "First off, fold the dataframe - an obvious way would be to split into two as we have done before, but another way is to stick a label onto a new column that shows which fold the row belongs to. It would be nice to have a **nice pythonic idiomatic way** to do it, but.. for now.."
   ]
  },
  {
   "cell_type": "code",
   "execution_count": 31,
   "metadata": {},
   "outputs": [
    {
     "data": {
      "text/plain": [
       "4.0    1649\n",
       "1.0    1647\n",
       "3.0    1647\n",
       "2.0    1647\n",
       "0.0    1647\n",
       "Name: fold, dtype: int64"
      ]
     },
     "execution_count": 31,
     "metadata": {},
     "output_type": "execute_result"
    }
   ],
   "source": [
    "filler = 0\n",
    "count = 0\n",
    "N = len( dc_listings )\n",
    "n_folds = 5\n",
    "M = int( N / n_folds )\n",
    "# dc_listings['fold'] = 0\n",
    "while count < N :\n",
    "    dc_listings.loc[count,'fold'] = filler\n",
    "    count += 1\n",
    "    if 0 == count % M and (filler < n_folds-1) :\n",
    "        filler += 1\n",
    "dc_listings['fold'].value_counts()\n"
   ]
  },
  {
   "cell_type": "markdown",
   "metadata": {},
   "source": [
    "Okay, that obviously worked out.. Let's make a function we can call on anytime to fold a dataframe.."
   ]
  },
  {
   "cell_type": "code",
   "execution_count": 33,
   "metadata": {},
   "outputs": [],
   "source": [
    "def fold_df( df, n_folds ) :\n",
    "    filler = 0\n",
    "    count = 0\n",
    "    N = len( df )\n",
    "    M = int( N / n_folds )\n",
    "    while count < N :\n",
    "        df.loc[count,'fold'] = filler\n",
    "        count += 1\n",
    "        if 0 == count % M and (filler < n_folds-1) :\n",
    "            filler += 1"
   ]
  },
  {
   "cell_type": "code",
   "execution_count": 34,
   "metadata": {},
   "outputs": [
    {
     "data": {
      "text/plain": [
       "9.0    830\n",
       "6.0    823\n",
       "0.0    823\n",
       "5.0    823\n",
       "8.0    823\n",
       "3.0    823\n",
       "2.0    823\n",
       "7.0    823\n",
       "4.0    823\n",
       "1.0    823\n",
       "Name: fold, dtype: int64"
      ]
     },
     "execution_count": 34,
     "metadata": {},
     "output_type": "execute_result"
    }
   ],
   "source": [
    "fold_df( dc_listings, 10 )\n",
    "dc_listings['fold'].value_counts()"
   ]
  },
  {
   "cell_type": "markdown",
   "metadata": {},
   "source": [
    "Another way (5 folds) is to specify the splits and then :\n",
    "\n",
    "```\n",
    "splits = [0, 745, 1490, 2234, 2978, len(dc_listings) ]\n",
    "for i,split in enumerate(splits[:-1]) :\n",
    "    dc_listings.loc[ split : splits[i+1], 'fold'] = i+1\n",
    "```"
   ]
  },
  {
   "cell_type": "markdown",
   "metadata": {},
   "source": [
    "Along these lines, .. make a function that takes the DF and the fold indexes and returns a list of the RMSEs"
   ]
  },
  {
   "cell_type": "code",
   "execution_count": 35,
   "metadata": {},
   "outputs": [],
   "source": [
    "def train_and_validate( df, folds ) :   # assumes that fold labels already exist in df\n",
    "    rmses = []\n",
    "    for fold in folds :\n",
    "        knn = KNeighborsRegressor()\n",
    "        knn.fit( df.loc[ df['fold'] != fold, [\"accommodates\"] ], df.loc[ df['fold'] != fold,['price'] ] )\n",
    "        df.loc[ df['fold'] == fold, 'labels'] = knn.predict( df.loc[ df['fold'] == fold , ['accommodates'] ]  )\n",
    "        rmses.append( mean_squared_error( df.loc[ df['fold'] == fold, 'price'] , df.loc[ df['fold']==fold, 'labels'] )**0.5 )\n",
    "    return rmses"
   ]
  },
  {
   "cell_type": "markdown",
   "metadata": {},
   "source": [
    "What does SciKit Learn have that can help with such and approach?\n",
    "\n",
    "```\n",
    "from sklearn.model_selection import cross_val_score, KFold\n",
    "from sklearn.neighbors import KNeighborsRegressor\n",
    "\n",
    "kf = KFold( 5 , shuffle=True, random_state=1 )\n",
    "knn = KNeighborsRegressor()\n",
    "mses = cross_val_score(knn , dc_listings[['accommodates']], dc_listings['price'], scoring='neg_mean_squared_error' , cv=kf)\n",
    "rmses = [ (abs(x))**0.5 for x in mses]\n",
    "avg_rmse = np.mean( rmses )\n",
    "```"
   ]
  },
  {
   "cell_type": "markdown",
   "metadata": {},
   "source": [
    "Bottom line - be aware of **bias** (too much weight to some features (\"My neighbour must be happy because he has a pretty wife\") ) and **variance** (a model that depends on too many features due to which, the impact of the features that really matter is diluted by the impact of the ones that really done).\n",
    "\n",
    "But, look at error results, how are you to know about B and V?\n",
    "Answer : B is seen in the average RMS error and Variance in the std-deviation of the RMS error (in the simple case above, we generate samples through different splits of train/test)"
   ]
  }
 ],
 "metadata": {
  "kernelspec": {
   "display_name": "Python 3",
   "language": "python",
   "name": "python3"
  },
  "language_info": {
   "codemirror_mode": {
    "name": "ipython",
    "version": 3
   },
   "file_extension": ".py",
   "mimetype": "text/x-python",
   "name": "python",
   "nbconvert_exporter": "python",
   "pygments_lexer": "ipython3",
   "version": "3.8.3"
  }
 },
 "nbformat": 4,
 "nbformat_minor": 4
}
