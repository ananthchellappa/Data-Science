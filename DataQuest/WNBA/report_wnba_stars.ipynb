{
 "cells": [
  {
   "cell_type": "markdown",
   "metadata": {},
   "source": [
    "## Find the stars in your dataset"
   ]
  },
  {
   "cell_type": "markdown",
   "metadata": {},
   "source": [
    "Given a **dataframe with aggregate data** (that is, the entities (Eg. players) should have one row each. If there are multiple rows to an entity, say one per year, then the report will not be meaningful..) and a **list of categories of interest, report top 5 (default) entities based on the number of categories in which they rank within the top 5 (default N=5).**\n",
    "\n",
    "Note that the table is giving the rank in each category and the **overall rank based on normalized ranks within this table** (i.e., <font color='blue'>within the table, in the 3P% category, 1=>1, 3=>2, 104=>3 and in FT%, 1=>1, 77=>2, 106=>3, etc</font>)\n",
    "\n",
    "```\n",
    "df_stars( wnba, ['FG%', '3P%', 'FT%'])\n",
    "\n",
    "                  FG%  3P%  FT%  Final\n",
    "Crystal Langhorne   2    3  106      1\n",
    "Angel Robinson      9    1    1      2\n",
    "Sylvia Fowles       3  104   77      3\n",
    "Aneika Henry        1  104  139      4\n",
    "Brittany Boyd       4  104  104      5\n",
    "```"
   ]
  },
  {
   "attachments": {
    "Capture.PNG": {
     "image/png": "[encoded data removed]"
    }
   },
   "cell_type": "markdown",
   "metadata": {},
   "source": [
    "Ideally, we would like to generate an interactive table that looks like this, where one can click or hover on a cell to get the value (rank displayed by default)\n",
    "\n",
    "\n",
    "![Capture.PNG alt <](attachment:Capture.PNG)\n",
    "#### If you figure out a way, please share :)\n",
    "Also, would be nice to know how to get this embedded image aligned left rather than center (with HTML, easy, but then, how does one embed it?)"
   ]
  },
  {
   "cell_type": "markdown",
   "metadata": {},
   "source": [
    "### Features :\n",
    "* Function automatically figures out the \"Name\" column (the non-numeric one with largest number of unique elements)  \n",
    "* No cleaning necessary for numeric columns (which are read in as strings because of outliers, etc)  \n",
    "* Find stars or rogues - by default, it fetches entities with the highest values in the categories of interest, but the report_max flag can be set to False to fetch the \"least bad\" (for example, the best players going by turnovers would have the lowest scores in the TO column)"
   ]
  },
  {
   "cell_type": "code",
   "execution_count": 1,
   "metadata": {},
   "outputs": [],
   "source": [
    "import pandas as pd\n",
    "import numpy as np\n",
    "import re"
   ]
  },
  {
   "cell_type": "code",
   "execution_count": 2,
   "metadata": {},
   "outputs": [
    {
     "data": {
      "text/html": [
       "<div>\n",
       "<style scoped>\n",
       "    .dataframe tbody tr th:only-of-type {\n",
       "        vertical-align: middle;\n",
       "    }\n",
       "\n",
       "    .dataframe tbody tr th {\n",
       "        vertical-align: top;\n",
       "    }\n",
       "\n",
       "    .dataframe thead th {\n",
       "        text-align: right;\n",
       "    }\n",
       "</style>\n",
       "<table border=\"1\" class=\"dataframe\">\n",
       "  <thead>\n",
       "    <tr style=\"text-align: right;\">\n",
       "      <th></th>\n",
       "      <th>Name</th>\n",
       "      <th>Team</th>\n",
       "      <th>Pos</th>\n",
       "      <th>Height</th>\n",
       "      <th>Weight</th>\n",
       "      <th>BMI</th>\n",
       "      <th>Birth_Place</th>\n",
       "      <th>Birthdate</th>\n",
       "      <th>Age</th>\n",
       "      <th>College</th>\n",
       "      <th>...</th>\n",
       "      <th>OREB</th>\n",
       "      <th>DREB</th>\n",
       "      <th>REB</th>\n",
       "      <th>AST</th>\n",
       "      <th>STL</th>\n",
       "      <th>BLK</th>\n",
       "      <th>TO</th>\n",
       "      <th>PTS</th>\n",
       "      <th>DD2</th>\n",
       "      <th>TD3</th>\n",
       "    </tr>\n",
       "  </thead>\n",
       "  <tbody>\n",
       "    <tr>\n",
       "      <th>0</th>\n",
       "      <td>Aerial Powers</td>\n",
       "      <td>DAL</td>\n",
       "      <td>F</td>\n",
       "      <td>183</td>\n",
       "      <td>71.0</td>\n",
       "      <td>21.200991</td>\n",
       "      <td>US</td>\n",
       "      <td>January 17, 1994</td>\n",
       "      <td>23</td>\n",
       "      <td>Michigan State</td>\n",
       "      <td>...</td>\n",
       "      <td>6</td>\n",
       "      <td>22</td>\n",
       "      <td>28</td>\n",
       "      <td>12</td>\n",
       "      <td>3</td>\n",
       "      <td>6</td>\n",
       "      <td>12</td>\n",
       "      <td>93</td>\n",
       "      <td>0</td>\n",
       "      <td>0</td>\n",
       "    </tr>\n",
       "    <tr>\n",
       "      <th>1</th>\n",
       "      <td>Alana Beard</td>\n",
       "      <td>LA</td>\n",
       "      <td>G/F</td>\n",
       "      <td>185</td>\n",
       "      <td>73.0</td>\n",
       "      <td>21.329438</td>\n",
       "      <td>US</td>\n",
       "      <td>May 14, 1982</td>\n",
       "      <td>35</td>\n",
       "      <td>Duke</td>\n",
       "      <td>...</td>\n",
       "      <td>19</td>\n",
       "      <td>82</td>\n",
       "      <td>101</td>\n",
       "      <td>72</td>\n",
       "      <td>63</td>\n",
       "      <td>13</td>\n",
       "      <td>40</td>\n",
       "      <td>217</td>\n",
       "      <td>0</td>\n",
       "      <td>0</td>\n",
       "    </tr>\n",
       "  </tbody>\n",
       "</table>\n",
       "<p>2 rows × 32 columns</p>\n",
       "</div>"
      ],
      "text/plain": [
       "            Name Team  Pos  Height  Weight        BMI Birth_Place  \\\n",
       "0  Aerial Powers  DAL    F     183    71.0  21.200991          US   \n",
       "1    Alana Beard   LA  G/F     185    73.0  21.329438          US   \n",
       "\n",
       "          Birthdate  Age         College  ... OREB  DREB  REB  AST  STL  BLK  \\\n",
       "0  January 17, 1994   23  Michigan State  ...    6    22   28   12    3    6   \n",
       "1      May 14, 1982   35            Duke  ...   19    82  101   72   63   13   \n",
       "\n",
       "   TO  PTS  DD2  TD3  \n",
       "0  12   93    0    0  \n",
       "1  40  217    0    0  \n",
       "\n",
       "[2 rows x 32 columns]"
      ]
     },
     "execution_count": 2,
     "metadata": {},
     "output_type": "execute_result"
    }
   ],
   "source": [
    "wnba = pd.read_csv('WNBA Stats.csv') # https://www.kaggle.com/jinxbe/wnba-player-stats-2017\n",
    "wnba.head(2)"
   ]
  },
  {
   "cell_type": "code",
   "execution_count": 3,
   "metadata": {},
   "outputs": [],
   "source": [
    "def get_col_tops( df, nameCol, col, N=5, highest=True ) :\n",
    "    \"\"\" DataFrame, string, string, int --> list of strings\"\"\"\n",
    "    # when dataframe is arranged by column col, what are the names in nameCol \n",
    "    # corresponding to the top N in column col\n",
    "    count = 0\n",
    "    names = []\n",
    "    for val in sorted(df[col].unique(),reverse=highest)[:N] :\n",
    "        stars = df.loc[ df[col] == val, nameCol]\n",
    "        count += len( stars )\n",
    "        names.extend(stars.to_list() )\n",
    "        if count >= N :\n",
    "            break\n",
    "    return names"
   ]
  },
  {
   "cell_type": "code",
   "execution_count": 4,
   "metadata": {},
   "outputs": [],
   "source": [
    "def get_ID_col( df_in ) :\n",
    "    \"\"\" DataFrame --> string\"\"\"\n",
    "    # return name of the non-numeric column with the highest diversity\n",
    "    # we do crude checking to see if the column is actually numeric to handle unclean data\n",
    "    # that is, a truly numeric column with many unique values is read in as string (object) because\n",
    "    # of a few non-numeric values\n",
    "    df = df_in.copy()\n",
    "    name_col = None\n",
    "    nn_count = 0\n",
    "    for col in df.select_dtypes( include='object').columns :\n",
    "        df[col] = df[col].str.replace('[$, ]', '')\n",
    "        non_num = df.loc[ ~df[col].str.match( pat='^[+-]?(\\d+|\\d*\\.\\d+|\\d+\\.\\d*)([eE][-+]?[0-9]+)?$'), col].unique()\n",
    "        if len( non_num ) > nn_count :\n",
    "            nn_count = len( non_num )\n",
    "            name_col = col\n",
    "    return name_col"
   ]
  },
  {
   "cell_type": "code",
   "execution_count": 5,
   "metadata": {},
   "outputs": [],
   "source": [
    "def clean_numeric_col( series ) :\n",
    "    \"\"\"pd.Series --> pd.Series\"\"\"\n",
    "    if pd.api.types.is_numeric_dtype( series ) :\n",
    "        return series\n",
    "    ser = series.str.replace('[$, ]', '')\n",
    "    temp = ser.copy()\n",
    "    temp[ ~temp.str.match( pat='^[+-]?(\\d+|\\d*\\.\\d+|\\d+\\.\\d*)([eE][-+]?[0-9]+)?$')] = np.NaN\n",
    "    temp = temp.astype('float')\n",
    "    non_num = ser[ ~ser.str.match( pat='^[+-]?(\\d+|\\d*\\.\\d+|\\d+\\.\\d*)([eE][-+]?[0-9]+)?$')].unique()\n",
    "    if len( non_num ) == 1 and temp.min() > 0 and re.match( '^\\w+$', non_num[0] ) :\n",
    "        ser = ser.str.replace( non_num[0], '0' )    # replace the singleton if other values are > 0\n",
    "                                            # and uses only word characters (not specials like ?)\n",
    "        ser = ser.astype('float')\n",
    "    else :\n",
    "        ser = temp  # since this already has the non-numeric replaced with NaN\n",
    "    return ser"
   ]
  },
  {
   "cell_type": "code",
   "execution_count": 6,
   "metadata": {},
   "outputs": [],
   "source": [
    "def rank_in_col( df_in, col, nameCol, name, reverse=False, cleaned=False ) :\n",
    "    \"\"\" DataFrame, string, string, string, bool, bool--> int\"\"\"\n",
    "    # A,B,C,D in 10,10,5,7 => D's rank is 3 since there are two ahead of it\n",
    "    if cleaned :\n",
    "        df = df_in\n",
    "    else :\n",
    "        df = df_in.copy()\n",
    "        df[col] = clean_numeric_col( df[col] )\n",
    "    if reverse :\n",
    "        return 1 + df.loc[ df[col] < df.loc[df[nameCol] == name,col ].iloc[0] ].shape[0]\n",
    "    else :\n",
    "        return 1 + df.loc[ df[col] > df.loc[df[nameCol] == name,col ].iloc[0] ].shape[0]"
   ]
  },
  {
   "cell_type": "code",
   "execution_count": 17,
   "metadata": {},
   "outputs": [],
   "source": [
    "def df_stars( df_in, categories, name=None, N=5, report_max=True , weights=None ) :\n",
    "    \"\"\" dataframe, list of strings, string,int, string --> dataframe and printed report \"\"\"\n",
    "    # name : the column whose values you want in the final report (Eg. 'Name' in the WNBA dataset)\n",
    "    # - by default, the column with the most unique non-numeric values will be used\n",
    "    # N : how many top items in each category to consider\n",
    "    # categories - the numeric data columns to be used to find the stars Eg : ['PTS', 'FG%']\n",
    "    #       need not be cleaned. If a category has too many non-numeric items (more than pc_discard%) the it's dropped\n",
    "    # report_max : if True, then the \"tops\" in each category are the highest numbers, else the lowest\n",
    "    # weights (not implemented yet)\n",
    "    #  : by default, each category has equal weight with the order of the categories counting\n",
    "    #        : to break ties. That is, if in cats 1,2,3,4 players A and B have identical values in 2,3 and 4\n",
    "    #        :     then the score in cat 1 will be used to break the tie to rank one player ahead of the other\n",
    "    #        :   in the final report. But, if weights are specified, (default, all equal weight, with order considered)\n",
    "    #        :   then, if cat 1 is weighted 2, while others are 1, then if player A achieves rank 1 in cat 1\n",
    "    #        :   but does not figure in cats 2,3,4, he may still place higher than player B who is lower in cat 1\n",
    "    #        :   but makes the top 5 in cats 2,3,4\n",
    "    # summary : stars are the ones making the top-N in the largest number of categories of interest\n",
    "    if name is None :\n",
    "        name = get_ID_col( df_in )\n",
    "    df = df_in.copy()\n",
    "    tops = pd.DataFrame( columns=['memberships'])\n",
    "    for col in categories :\n",
    "        df[col] = clean_numeric_col( df[col] )\n",
    "        # here, need to clean the column by discarding NaN. Is that necessary though? Since we're only looking\n",
    "        # at ranks?\n",
    "        names_in_col = get_col_tops( df, name, col, N, highest=report_max )\n",
    "        for entity in names_in_col :\n",
    "            if entity not in tops.index :\n",
    "                tops.loc[ entity, 'memberships'] = 1\n",
    "            else :\n",
    "                tops.loc[ entity, 'memberships'] += 1\n",
    "    report = pd.DataFrame( columns=categories )\n",
    "    for entity in tops.sort_values('memberships', ascending=False).index[:N] :\n",
    "        sum = 0\n",
    "        for cat in categories :\n",
    "            rank = rank_in_col(df, cat, name, entity, reverse=(not report_max), cleaned=True )\n",
    "            report.loc[ entity, cat ] = rank\n",
    "            sum += rank\n",
    "    analyze = report.copy()\n",
    "    # normalize this mini dataframe\n",
    "    analyze = analyze - analyze.mean()\n",
    "    for col in analyze.columns :\n",
    "        if analyze[col].std() > 0 :\n",
    "            analyze[col] = analyze[col] / analyze[col].std()\n",
    "    analyze['total'] = analyze.sum( axis=1 )\n",
    "    raw_ranks = analyze['total'].to_list()\n",
    "    # now, taking these sums of normalized ranks in 'total', we want to convert them to cardinals\n",
    "    # this is O(n^2), but better ways that are easy to find can't handle duplicates..\n",
    "    final = np.asarray( [ sorted(raw_ranks).index(x) for x in raw_ranks])\n",
    "    report['Final'] = final + 1\n",
    "    report.sort_values('Final', inplace=True)\n",
    "    print( report )\n",
    "    return report"
   ]
  },
  {
   "cell_type": "code",
   "execution_count": 8,
   "metadata": {},
   "outputs": [
    {
     "name": "stdout",
     "output_type": "stream",
     "text": [
      "                  FG%  3P%  FT%  Final\n",
      "Crystal Langhorne   2    3  106      1\n",
      "Angel Robinson      9    1    1      2\n",
      "Sylvia Fowles       3  104   77      3\n",
      "Aneika Henry        1  104  139      4\n",
      "Brittany Boyd       4  104  104      5\n"
     ]
    }
   ],
   "source": [
    "df_stars( wnba, ['FG%', '3P%', 'FT%'])  # players ranked highest based on field goal %, 3-pointer %, free-throw %"
   ]
  },
  {
   "cell_type": "markdown",
   "metadata": {},
   "source": [
    "What if you go by attempted field goals, 3-pointers, free-throws?"
   ]
  },
  {
   "cell_type": "code",
   "execution_count": 18,
   "metadata": {},
   "outputs": [
    {
     "name": "stdout",
     "output_type": "stream",
     "text": [
      "                     FGA 3PA FTA  Final\n",
      "Breanna Stewart        3  10   2      1\n",
      "Jia Perkins            2  10  11      2\n",
      "Skylar Diggins-Smith   5  12   1      3\n",
      "Tina Charles           1  44  10      4\n",
      "Maya Moore             4   8  19      5\n"
     ]
    }
   ],
   "source": [
    "stars_atts = df_stars( wnba, ['FGA', '3PA', 'FTA'])"
   ]
  },
  {
   "cell_type": "markdown",
   "metadata": {},
   "source": [
    "What scores do they actually have in these categories?"
   ]
  },
  {
   "cell_type": "code",
   "execution_count": 27,
   "metadata": {},
   "outputs": [
    {
     "data": {
      "text/html": [
       "<div>\n",
       "<style scoped>\n",
       "    .dataframe tbody tr th:only-of-type {\n",
       "        vertical-align: middle;\n",
       "    }\n",
       "\n",
       "    .dataframe tbody tr th {\n",
       "        vertical-align: top;\n",
       "    }\n",
       "\n",
       "    .dataframe thead th {\n",
       "        text-align: right;\n",
       "    }\n",
       "</style>\n",
       "<table border=\"1\" class=\"dataframe\">\n",
       "  <thead>\n",
       "    <tr style=\"text-align: right;\">\n",
       "      <th></th>\n",
       "      <th>Name</th>\n",
       "      <th>FGA</th>\n",
       "      <th>3PA</th>\n",
       "      <th>FTA</th>\n",
       "    </tr>\n",
       "  </thead>\n",
       "  <tbody>\n",
       "    <tr>\n",
       "      <th>19</th>\n",
       "      <td>Breanna Stewart</td>\n",
       "      <td>417</td>\n",
       "      <td>123</td>\n",
       "      <td>171</td>\n",
       "    </tr>\n",
       "    <tr>\n",
       "      <th>67</th>\n",
       "      <td>Jia Perkins</td>\n",
       "      <td>420</td>\n",
       "      <td>123</td>\n",
       "      <td>134</td>\n",
       "    </tr>\n",
       "    <tr>\n",
       "      <th>94</th>\n",
       "      <td>Maya Moore</td>\n",
       "      <td>398</td>\n",
       "      <td>132</td>\n",
       "      <td>114</td>\n",
       "    </tr>\n",
       "    <tr>\n",
       "      <th>124</th>\n",
       "      <td>Skylar Diggins-Smith</td>\n",
       "      <td>394</td>\n",
       "      <td>119</td>\n",
       "      <td>186</td>\n",
       "    </tr>\n",
       "    <tr>\n",
       "      <th>141</th>\n",
       "      <td>Tina Charles</td>\n",
       "      <td>509</td>\n",
       "      <td>56</td>\n",
       "      <td>135</td>\n",
       "    </tr>\n",
       "  </tbody>\n",
       "</table>\n",
       "</div>"
      ],
      "text/plain": [
       "                     Name  FGA  3PA  FTA\n",
       "19        Breanna Stewart  417  123  171\n",
       "67            Jia Perkins  420  123  134\n",
       "94             Maya Moore  398  132  114\n",
       "124  Skylar Diggins-Smith  394  119  186\n",
       "141          Tina Charles  509   56  135"
      ]
     },
     "execution_count": 27,
     "metadata": {},
     "output_type": "execute_result"
    }
   ],
   "source": [
    "wnba.loc[ wnba['Name'].isin(stars_atts.index), ['Name','FGA', '3PA', 'FTA']]"
   ]
  },
  {
   "cell_type": "markdown",
   "metadata": {},
   "source": [
    "Since this dataset only has turn-overs, that is the only metric for \"least bad\". Let's throw in BMI as well, just for fun - to say that lower BMI is good.."
   ]
  },
  {
   "cell_type": "code",
   "execution_count": 28,
   "metadata": {},
   "outputs": [
    {
     "name": "stdout",
     "output_type": "stream",
     "text": [
      "                         BMI   TO  Final\n",
      "Jazmon Gwathmey            1   78      1\n",
      "Shatori Walker-Kimbrough   5   28      2\n",
      "Yvonne Turner              3   78      3\n",
      "Danielle Robinson          2  124      4\n",
      "Moriah Jefferson           4   97      5\n"
     ]
    },
    {
     "data": {
      "text/html": [
       "<div>\n",
       "<style scoped>\n",
       "    .dataframe tbody tr th:only-of-type {\n",
       "        vertical-align: middle;\n",
       "    }\n",
       "\n",
       "    .dataframe tbody tr th {\n",
       "        vertical-align: top;\n",
       "    }\n",
       "\n",
       "    .dataframe thead th {\n",
       "        text-align: right;\n",
       "    }\n",
       "</style>\n",
       "<table border=\"1\" class=\"dataframe\">\n",
       "  <thead>\n",
       "    <tr style=\"text-align: right;\">\n",
       "      <th></th>\n",
       "      <th>BMI</th>\n",
       "      <th>TO</th>\n",
       "      <th>Final</th>\n",
       "    </tr>\n",
       "  </thead>\n",
       "  <tbody>\n",
       "    <tr>\n",
       "      <th>Jazmon Gwathmey</th>\n",
       "      <td>1</td>\n",
       "      <td>78</td>\n",
       "      <td>1</td>\n",
       "    </tr>\n",
       "    <tr>\n",
       "      <th>Shatori Walker-Kimbrough</th>\n",
       "      <td>5</td>\n",
       "      <td>28</td>\n",
       "      <td>2</td>\n",
       "    </tr>\n",
       "    <tr>\n",
       "      <th>Yvonne Turner</th>\n",
       "      <td>3</td>\n",
       "      <td>78</td>\n",
       "      <td>3</td>\n",
       "    </tr>\n",
       "    <tr>\n",
       "      <th>Danielle Robinson</th>\n",
       "      <td>2</td>\n",
       "      <td>124</td>\n",
       "      <td>4</td>\n",
       "    </tr>\n",
       "    <tr>\n",
       "      <th>Moriah Jefferson</th>\n",
       "      <td>4</td>\n",
       "      <td>97</td>\n",
       "      <td>5</td>\n",
       "    </tr>\n",
       "  </tbody>\n",
       "</table>\n",
       "</div>"
      ],
      "text/plain": [
       "                         BMI   TO  Final\n",
       "Jazmon Gwathmey            1   78      1\n",
       "Shatori Walker-Kimbrough   5   28      2\n",
       "Yvonne Turner              3   78      3\n",
       "Danielle Robinson          2  124      4\n",
       "Moriah Jefferson           4   97      5"
      ]
     },
     "execution_count": 28,
     "metadata": {},
     "output_type": "execute_result"
    }
   ],
   "source": [
    "df_stars( wnba, ['BMI', 'TO'], report_max=False)"
   ]
  },
  {
   "cell_type": "code",
   "execution_count": null,
   "metadata": {},
   "outputs": [],
   "source": []
  }
 ],
 "metadata": {
  "kernelspec": {
   "display_name": "Python 3",
   "language": "python",
   "name": "python3"
  },
  "language_info": {
   "codemirror_mode": {
    "name": "ipython",
    "version": 3
   },
   "file_extension": ".py",
   "mimetype": "text/x-python",
   "name": "python",
   "nbconvert_exporter": "python",
   "pygments_lexer": "ipython3",
   "version": "3.8.3"
  }
 },
 "nbformat": 4,
 "nbformat_minor": 4
}
